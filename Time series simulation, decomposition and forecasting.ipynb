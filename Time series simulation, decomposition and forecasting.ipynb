{
 "cells": [
  {
   "cell_type": "markdown",
   "metadata": {},
   "source": [
    "# Practical Econometrics II: Midterm I (<b style=\"color:blue\">R</b>)"
   ]
  },
  {
   "cell_type": "markdown",
   "metadata": {},
   "source": [
    "# 2023-04-13"
   ]
  },
  {
   "cell_type": "markdown",
   "metadata": {},
   "source": [
    "### <i> <b style=\"color:red\">Stefan Ristikj</b> </i>"
   ]
  },
  {
   "cell_type": "markdown",
   "metadata": {},
   "source": [
    "\n",
    "---\n",
    "---"
   ]
  },
  {
   "cell_type": "markdown",
   "metadata": {
    "jp-MarkdownHeadingCollapsed": true,
    "tags": []
   },
   "source": [
    "## Requirements\n",
    "\n",
    "- All of the answers must be explained and justified by either tests, model output, or charts;\n",
    "- If you are testing a hypothesis - write down the **null** and the **alternative** hypothesis; Also **clearly** state the results of the test.\n",
    "- If you estimate a model, or carry out a test and make some conclusions based on it - indicate **the reason** that these conclusions are based on (e.g. $p$-value, $t$-statistic, residuals, plots, etc. some other test results, model functional form, coefficient interpretation, etc.);\n",
    "- You should understand what your code does and how it works. You are also responsible that your code **is correctly working**.\n",
    "- Plots, Charts, etc. should be readable, with clear explanations - either by including a legend or writing a couple of sentences explaining which colors correspond to which data/models/forecasts of interest. **Do not be afraid to comment the charts** - what do you see from the plots - is everything as you expect, do you identify any **potential** problems?\n",
    "- **Important!** Do not forget to use `set.seed(STUDENT_CODE)` if you need to sample or simulate data, where `STUDENT_CODE` is **your** student code.\n",
    "\n",
    "- Your solutions have to be coherent - i.e. if one task requires to select the best model, then the next task requires to write down the equation and the third one requires to carry out some model testing - clearly state what model you chose, **and why**, and use **only that model**, **unless the tasks specify otherwise**.\n",
    "\n",
    "- <b style=\"color:red\">If a task REQUIRES you to provide comments on the results - providing only code without explanation of the results does NOT count as a solution.</b>\n",
    "\n",
    "----\n",
    "----"
   ]
  },
  {
   "cell_type": "markdown",
   "metadata": {},
   "source": [
    "## Some Recommended Libraries\n",
    "\n",
    "You may need the following libraries:"
   ]
  },
  {
   "cell_type": "code",
   "execution_count": 1,
   "metadata": {},
   "outputs": [
    {
     "data": {
      "text/html": [
       "<table class=\"dataframe\">\n",
       "<caption>A matrix: 2 × 6 of type dbl</caption>\n",
       "<thead>\n",
       "\t<tr><th></th><th scope=col>used</th><th scope=col>(Mb)</th><th scope=col>gc trigger</th><th scope=col>(Mb)</th><th scope=col>max used</th><th scope=col>(Mb)</th></tr>\n",
       "</thead>\n",
       "<tbody>\n",
       "\t<tr><th scope=row>Ncells</th><td> 617399</td><td>33.0</td><td>1313560</td><td>70.2</td><td>1313560</td><td>70.2</td></tr>\n",
       "\t<tr><th scope=row>Vcells</th><td>1108911</td><td> 8.5</td><td>8388608</td><td>64.0</td><td>1632695</td><td>12.5</td></tr>\n",
       "</tbody>\n",
       "</table>\n"
      ],
      "text/latex": [
       "A matrix: 2 × 6 of type dbl\n",
       "\\begin{tabular}{r|llllll}\n",
       "  & used & (Mb) & gc trigger & (Mb) & max used & (Mb)\\\\\n",
       "\\hline\n",
       "\tNcells &  617399 & 33.0 & 1313560 & 70.2 & 1313560 & 70.2\\\\\n",
       "\tVcells & 1108911 &  8.5 & 8388608 & 64.0 & 1632695 & 12.5\\\\\n",
       "\\end{tabular}\n"
      ],
      "text/markdown": [
       "\n",
       "A matrix: 2 × 6 of type dbl\n",
       "\n",
       "| <!--/--> | used | (Mb) | gc trigger | (Mb) | max used | (Mb) |\n",
       "|---|---|---|---|---|---|---|\n",
       "| Ncells |  617399 | 33.0 | 1313560 | 70.2 | 1313560 | 70.2 |\n",
       "| Vcells | 1108911 |  8.5 | 8388608 | 64.0 | 1632695 | 12.5 |\n",
       "\n"
      ],
      "text/plain": [
       "       used    (Mb) gc trigger (Mb) max used (Mb)\n",
       "Ncells  617399 33.0 1313560    70.2 1313560  70.2\n",
       "Vcells 1108911  8.5 8388608    64.0 1632695  12.5"
      ]
     },
     "metadata": {},
     "output_type": "display_data"
    }
   ],
   "source": [
    "rm(list = ls())\n",
    "gc()"
   ]
  },
  {
   "cell_type": "code",
   "execution_count": 3,
   "metadata": {},
   "outputs": [
    {
     "name": "stderr",
     "output_type": "stream",
     "text": [
      "Installing package into 'C:/Users/risti/AppData/Local/R/win-library/4.2'\n",
      "(as 'lib' is unspecified)\n",
      "\n",
      "also installing the dependency 'timechange'\n",
      "\n",
      "\n"
     ]
    },
    {
     "name": "stdout",
     "output_type": "stream",
     "text": [
      "package 'timechange' successfully unpacked and MD5 sums checked\n",
      "package 'lubridate' successfully unpacked and MD5 sums checked\n",
      "\n",
      "The downloaded binary packages are in\n",
      "\tC:\\Users\\risti\\AppData\\Local\\Temp\\Rtmpi8vcKD\\downloaded_packages\n"
     ]
    }
   ],
   "source": [
    "install.packages(\"lubridate\")"
   ]
  },
  {
   "cell_type": "code",
   "execution_count": 5,
   "metadata": {},
   "outputs": [
    {
     "name": "stderr",
     "output_type": "stream",
     "text": [
      "Installing package into 'C:/Users/risti/AppData/Local/R/win-library/4.2'\n",
      "(as 'lib' is unspecified)\n",
      "\n"
     ]
    },
    {
     "name": "stdout",
     "output_type": "stream",
     "text": [
      "package 'data.table' successfully unpacked and MD5 sums checked\n",
      "\n",
      "The downloaded binary packages are in\n",
      "\tC:\\Users\\risti\\AppData\\Local\\Temp\\Rtmpi8vcKD\\downloaded_packages\n"
     ]
    }
   ],
   "source": [
    "install.packages(\"data.table\")"
   ]
  },
  {
   "cell_type": "code",
   "execution_count": 7,
   "metadata": {},
   "outputs": [
    {
     "name": "stderr",
     "output_type": "stream",
     "text": [
      "Installing package into 'C:/Users/risti/AppData/Local/R/win-library/4.2'\n",
      "(as 'lib' is unspecified)\n",
      "\n"
     ]
    },
    {
     "name": "stdout",
     "output_type": "stream",
     "text": [
      "package 'rugarch' successfully unpacked and MD5 sums checked\n",
      "\n",
      "The downloaded binary packages are in\n",
      "\tC:\\Users\\risti\\AppData\\Local\\Temp\\Rtmpi8vcKD\\downloaded_packages\n"
     ]
    }
   ],
   "source": [
    "install.packages(\"rugarch\")"
   ]
  },
  {
   "cell_type": "code",
   "execution_count": 9,
   "metadata": {},
   "outputs": [
    {
     "name": "stderr",
     "output_type": "stream",
     "text": [
      "Installing package into 'C:/Users/risti/AppData/Local/R/win-library/4.2'\n",
      "(as 'lib' is unspecified)\n",
      "\n"
     ]
    },
    {
     "name": "stdout",
     "output_type": "stream",
     "text": [
      "package 'PerformanceAnalytics' successfully unpacked and MD5 sums checked\n",
      "\n",
      "The downloaded binary packages are in\n",
      "\tC:\\Users\\risti\\AppData\\Local\\Temp\\Rtmpi8vcKD\\downloaded_packages\n"
     ]
    }
   ],
   "source": [
    "install.packages(\"PerformanceAnalytics\")"
   ]
  },
  {
   "cell_type": "code",
   "execution_count": 11,
   "metadata": {},
   "outputs": [
    {
     "name": "stderr",
     "output_type": "stream",
     "text": [
      "Installing package into 'C:/Users/risti/AppData/Local/R/win-library/4.2'\n",
      "(as 'lib' is unspecified)\n",
      "\n"
     ]
    },
    {
     "name": "stdout",
     "output_type": "stream",
     "text": [
      "package 'FinTS' successfully unpacked and MD5 sums checked\n",
      "\n",
      "The downloaded binary packages are in\n",
      "\tC:\\Users\\risti\\AppData\\Local\\Temp\\Rtmpi8vcKD\\downloaded_packages\n"
     ]
    }
   ],
   "source": [
    "install.packages(\"FinTS\")"
   ]
  },
  {
   "cell_type": "code",
   "execution_count": 12,
   "metadata": {},
   "outputs": [
    {
     "name": "stderr",
     "output_type": "stream",
     "text": [
      "Warning message:\n",
      "\"package 'FinTS' was built under R version 4.2.3\"\n"
     ]
    }
   ],
   "source": [
    "suppressPackageStartupMessages({\n",
    "  suppressMessages({\n",
    "    library(forecast)\n",
    "    library(ggplot2)\n",
    "    library(lubridate)\n",
    "    library(data.table)    \n",
    "    library(quantmod)\n",
    "    library(rugarch)\n",
    "    library(PerformanceAnalytics)\n",
    "    library(FinTS)\n",
    "    library(magrittr)\n",
    "  })\n",
    "})"
   ]
  },
  {
   "cell_type": "markdown",
   "metadata": {},
   "source": [
    "You can change the dimensions of plots by midifying the width and height in the code below:"
   ]
  },
  {
   "cell_type": "code",
   "execution_count": 13,
   "metadata": {},
   "outputs": [],
   "source": [
    "options(repr.plot.width = 12)\n",
    "options(repr.plot.height = 6)"
   ]
  },
  {
   "cell_type": "markdown",
   "metadata": {},
   "source": [
    "You can also add in any other libraries that you will be using."
   ]
  },
  {
   "cell_type": "code",
   "execution_count": null,
   "metadata": {},
   "outputs": [],
   "source": [
    "suppressPackageStartupMessages({\n",
    "  suppressWarnings({\n",
    "    # Add any additional libraries here\n",
    "  })\n",
    "})"
   ]
  },
  {
   "cell_type": "markdown",
   "metadata": {},
   "source": [
    "## Function to get the data\n",
    "\n",
    "Below is an `.R` code file, which will be used to generate equations and data, based on your student code:"
   ]
  },
  {
   "cell_type": "code",
   "execution_count": 14,
   "metadata": {},
   "outputs": [],
   "source": [
    "source(\"http://web.vu.lt/mif/a.buteikis/wp-content/uploads/2023/04/MID2023_I.R\")"
   ]
  },
  {
   "cell_type": "markdown",
   "metadata": {},
   "source": [
    "## Specify your student code\n",
    "\n",
    "**Replace** `YOUR_STUDENT_CODE` with your student code and run the following code to get your data sample:"
   ]
  },
  {
   "cell_type": "code",
   "execution_count": 15,
   "metadata": {},
   "outputs": [],
   "source": [
    "STUDENT_CODE = 2309140"
   ]
  },
  {
   "cell_type": "markdown",
   "metadata": {},
   "source": [
    "Your student code is a unique 7-digit code. The start of the student code depends on the year and study programme, with the last 4 digits being unique to each student. For example:\n",
    "\n",
    "- `181xxxx` for VU Econometrics students, who enrolled in 2018;\n",
    "- `191xxxx` for VU Econometrics students, who enrolled in 2019;\n",
    "- etc.\n",
    "- `210xxxx`, `220xxxx`, etc. for ERASMUS/international students;"
   ]
  },
  {
   "cell_type": "markdown",
   "metadata": {},
   "source": [
    "# **Task Set 1: Time series simulation**\n",
    "\n",
    "Run the code below to get the equation for this exercise set:"
   ]
  },
  {
   "cell_type": "code",
   "execution_count": 16,
   "metadata": {},
   "outputs": [
    {
     "name": "stdout",
     "output_type": "stream",
     "text": [
      "[1] \"Student code: 2309140\"\n",
      "[1] \"Equation: (1-0.4L+0.2L^2)Y_t = 0.4 + (1-0.4L)e_t\"\n",
      "[1] \"with: e_t ~ N(0, 1) and T = 150\"\n"
     ]
    }
   ],
   "source": [
    "get_equation(STUDENT_CODE)"
   ]
  },
  {
   "cell_type": "markdown",
   "metadata": {},
   "source": [
    "Carry out the tasks below:\n",
    "\n",
    "- **(A)** What kind of models are specified in the equations - $\\rm AR(p)$, $\\rm MA(q)$ or $\\rm ARMA(p,q)$ and what are the lag orders $p$ and $q$? Is the process stationary and invertible?\n",
    "- **(B)** Simulate the series using an additional $50$ observation as burn-in observations.\n",
    "- **(C)** Plot the sample $\\rm ACF$ and $\\rm PACF$ - what can you say about the process using only these plots? Carry out an `Ljung-Box` test.\n",
    "- **(D)** Use `auto.arima` to select the best (in terms of $\\rm BIC$) model - what kind of model is it? Analyse the residuals of your model - are they autocorrelated?\n",
    "- **(E)** Use your model and forecast $h = 5$ periods into the future."
   ]
  },
  {
   "cell_type": "markdown",
   "metadata": {},
   "source": [
    "*Solutions*:"
   ]
  },
  {
   "cell_type": "markdown",
   "metadata": {},
   "source": [
    "**(A) What kind of models are specified in the equations - AR(p), MA(q) or ARMA(p,q) and what are the lag orders 𝑝 and 𝑞? Is the process stationary and invertible?**"
   ]
  },
  {
   "cell_type": "markdown",
   "metadata": {},
   "source": [
    "The equation specifies an ARMA(p, q) model, with lag orders p=2 and q=1. "
   ]
  },
  {
   "cell_type": "code",
   "execution_count": 17,
   "metadata": {},
   "outputs": [
    {
     "name": "stdout",
     "output_type": "stream",
     "text": [
      "[1] \"Equation: 1 - 0.4*x + 0.2*x^2\"\n"
     ]
    }
   ],
   "source": [
    "print(paste0(\"Equation: \", polynom::polynomial(coef = c(1, -0.4, 0.2))))"
   ]
  },
  {
   "cell_type": "code",
   "execution_count": 18,
   "metadata": {},
   "outputs": [
    {
     "data": {
      "text/html": [
       "<style>\n",
       ".list-inline {list-style: none; margin:0; padding: 0}\n",
       ".list-inline>li {display: inline-block}\n",
       ".list-inline>li:not(:last-child)::after {content: \"\\00b7\"; padding: 0 .5ex}\n",
       "</style>\n",
       "<ol class=list-inline><li>'Roots: 1+2i'</li><li>'Roots: 1-2i'</li></ol>\n"
      ],
      "text/latex": [
       "\\begin{enumerate*}\n",
       "\\item 'Roots: 1+2i'\n",
       "\\item 'Roots: 1-2i'\n",
       "\\end{enumerate*}\n"
      ],
      "text/markdown": [
       "1. 'Roots: 1+2i'\n",
       "2. 'Roots: 1-2i'\n",
       "\n",
       "\n"
      ],
      "text/plain": [
       "[1] \"Roots: 1+2i\" \"Roots: 1-2i\""
      ]
     },
     "metadata": {},
     "output_type": "display_data"
    }
   ],
   "source": [
    "sprintf(\"Roots: %s\", polyroot(c(1, -0.4, 0.2)))"
   ]
  },
  {
   "cell_type": "code",
   "execution_count": 26,
   "metadata": {},
   "outputs": [
    {
     "data": {
      "image/png": "[encoded data removed]",
      "text/plain": [
       "Plot with title \"ARMA(2, 1) - Plot 1, Ф(z)=0 roots\""
      ]
     },
     "metadata": {
      "image/png": {
       "height": 360,
       "width": 720
      }
     },
     "output_type": "display_data"
    }
   ],
   "source": [
    "root_1 <- polyroot(c(1, -0.4, 0.2))\n",
    "\n",
    "plot(root_1, col = 2, pch = 16, xlim = c(-3, 3), ylim = c(-3, 3), main = \"ARMA(2, 1) - Plot 1, Ф(z)=0 roots\")\n",
    "\n",
    "symbols(0, 0, circles = 1, add = T, inches = F)\n",
    "\n",
    "abline(h = 0, col = \"blue\", lty = 2)\n",
    "abline(v = 0, col = \"blue\", lty = 2)"
   ]
  },
  {
   "cell_type": "markdown",
   "metadata": {},
   "source": [
    "The process is stationary because the Ф(z) = 0 roots are outside the unit circle (plot 1), and is invertible because the Θ(z) = 0 roots are also outside of the unit circle (plot 2)."
   ]
  },
  {
   "cell_type": "code",
   "execution_count": 21,
   "metadata": {},
   "outputs": [
    {
     "data": {
      "text/html": [
       "'Roots: 2.5+0i'"
      ],
      "text/latex": [
       "'Roots: 2.5+0i'"
      ],
      "text/markdown": [
       "'Roots: 2.5+0i'"
      ],
      "text/plain": [
       "[1] \"Roots: 2.5+0i\""
      ]
     },
     "metadata": {},
     "output_type": "display_data"
    }
   ],
   "source": [
    "sprintf(\"Roots: %s\", polyroot(c(1, -0.4)))"
   ]
  },
  {
   "cell_type": "code",
   "execution_count": 27,
   "metadata": {},
   "outputs": [
    {
     "data": {
      "image/png": "[encoded data removed]",
      "text/plain": [
       "Plot with title \"ARMA(2, 1) - Plot 2, Θ(z)=0 roots\""
      ]
     },
     "metadata": {
      "image/png": {
       "height": 360,
       "width": 720
      }
     },
     "output_type": "display_data"
    }
   ],
   "source": [
    "root_1 <- polyroot(c(1, -0.4))\n",
    "\n",
    "plot(root_1, col = 2, pch = 16, xlim = c(-3, 3), ylim = c(-3, 3), main = \"ARMA(2, 1) - Plot 2, Θ(z)=0 roots\")\n",
    "\n",
    "symbols(0, 0, circles = 1, add = T, inches = F)\n",
    "\n",
    "abline(h = 0, col = \"blue\", lty = 2)\n",
    "abline(v = 0, col = \"blue\", lty = 2)"
   ]
  },
  {
   "cell_type": "markdown",
   "metadata": {},
   "source": [
    "**(B) Simulate the series using an additional 50 observation as burn-in observations.**"
   ]
  },
  {
   "cell_type": "code",
   "execution_count": 28,
   "metadata": {},
   "outputs": [],
   "source": [
    "set.seed(STUDENT_CODE)\n",
    "\n",
    "m <- 50\n",
    "N <- 150\n",
    "epsilon <- rnorm(mean = 0, sd = 1, n = N + m)\n",
    "\n",
    "data <- 0.4 + epsilon[1]\n",
    "data <- c(data, 0.4 * epsilon[1] + 0.4 + epsilon[2] - 0.4 * epsilon[1])\n",
    "for(j in 3:(N+m))\n",
    "{\n",
    "    temp <- 0.4 * data[j-1] - 0.2 * data[j-2] + 0.4 + epsilon[j] - 0.4 * epsilon[j-1]\n",
    "    data <- c(data, temp)\n",
    "}\n",
    "full_data <- data[-c(1:m)]"
   ]
  },
  {
   "cell_type": "code",
   "execution_count": 30,
   "metadata": {},
   "outputs": [
    {
     "data": {
      "image/png": "[encoded data removed]",
      "text/plain": [
       "Plot with title \"Autoregression Moving Average Process\""
      ]
     },
     "metadata": {
      "image/png": {
       "height": 360,
       "width": 720
      }
     },
     "output_type": "display_data"
    }
   ],
   "source": [
    "plot(full_data, type = \"l\", col = \"blue\", lwd = 2)\n",
    "title(\"Autoregression Moving Average Process\")\n",
    "legend(\"bottomleft\", legend = c(as.expression(bquote(Y[t]==0.4*Y[t-1]-0.2*Y[t-2]+0.4+epsilon[t]-0.4*epsilon[t-1]~\"(stationary and invertible)\")), lty = 1))"
   ]
  },
  {
   "cell_type": "markdown",
   "metadata": {},
   "source": [
    "**(C) Plot the sample ACF and PACF - what can you say about the process using only these plots? Carry out an Ljung-Box test.**"
   ]
  },
  {
   "cell_type": "code",
   "execution_count": 37,
   "metadata": {},
   "outputs": [
    {
     "data": {
      "image/png": "[encoded data removed]",
      "text/plain": [
       "Plot with title \"Series  full_data\""
      ]
     },
     "metadata": {
      "image/png": {
       "height": 360,
       "width": 720
      }
     },
     "output_type": "display_data"
    }
   ],
   "source": [
    "par(mfrow = c(1, 2))\n",
    "\n",
    "forecast::Acf(full_data, lag.max=30)\n",
    "\n",
    "forecast::Pacf(full_data, lag.max=30)"
   ]
  },
  {
   "cell_type": "markdown",
   "metadata": {},
   "source": [
    "From the ACF and Partial ACF plots above, we can say that there is a drop-off at lag 4 in both plots, but the series does not show a big correlation between points at different lags, so the past values may not be very useful when predicting future values."
   ]
  },
  {
   "cell_type": "code",
   "execution_count": 33,
   "metadata": {},
   "outputs": [],
   "source": [
    "library(stats)"
   ]
  },
  {
   "cell_type": "code",
   "execution_count": 34,
   "metadata": {},
   "outputs": [
    {
     "data": {
      "text/plain": [
       "\n",
       "\tBox-Ljung test\n",
       "\n",
       "data:  full_data\n",
       "X-squared = 13.812, df = 10, p-value = 0.1817\n"
      ]
     },
     "metadata": {},
     "output_type": "display_data"
    }
   ],
   "source": [
    "Box.test(x = full_data, lag = 10, type = \"Ljung-Box\")"
   ]
  },
  {
   "cell_type": "markdown",
   "metadata": {},
   "source": [
    "**(D) Use auto.arima to select the best (in terms of BIC) model - what kind of model is it? Analyse the residuals of your model - are they autocorrelated?**"
   ]
  },
  {
   "cell_type": "code",
   "execution_count": 43,
   "metadata": {},
   "outputs": [
    {
     "name": "stdout",
     "output_type": "stream",
     "text": [
      "\n",
      " ARIMA(2,0,2) with non-zero mean : 431.6686\n",
      " ARIMA(0,0,0) with non-zero mean : 428.4284\n",
      " ARIMA(1,0,0) with non-zero mean : 428.5741\n",
      " ARIMA(0,0,1) with non-zero mean : 427.1349\n",
      " ARIMA(0,0,0) with zero mean     : 454.9351\n",
      " ARIMA(1,0,1) with non-zero mean : 432.0153\n",
      " ARIMA(0,0,2) with non-zero mean : 431.7321\n",
      " ARIMA(1,0,2) with non-zero mean : 435.5645\n",
      " ARIMA(0,0,1) with zero mean     : 443.4736\n",
      "\n",
      " Best model: ARIMA(0,0,1) with non-zero mean \n",
      "\n",
      "Series: full_data \n",
      "ARIMA(0,0,1) with non-zero mean \n",
      "\n",
      "Coefficients:\n",
      "         ma1    mean\n",
      "      0.2196  0.4729\n",
      "s.e.  0.0800  0.0950\n",
      "\n",
      "sigma^2 = 0.9255:  log likelihood = -206.05\n",
      "AIC=418.1   AICc=418.27   BIC=427.13\n",
      "\n",
      "Training set error measures:\n",
      "                       ME      RMSE       MAE      MPE     MAPE      MASE\n",
      "Training set 0.0009026651 0.9555897 0.7722209 20.87757 307.5474 0.7877907\n",
      "                    ACF1\n",
      "Training set -0.01044076\n"
     ]
    }
   ],
   "source": [
    "model <- auto.arima(full_data, trace=TRUE, ic=\"bic\")\n",
    "print(summary(model))"
   ]
  },
  {
   "cell_type": "markdown",
   "metadata": {},
   "source": [
    "As we can see from auto.arima summary, the best model would be ARIMA(0,0,1) with a non-zero mean. And the model residuals below confirm that, because the acf and pacf plots of the residuals look much more to white noise, with all values falling in the blue band. Also, the residuals have minor autocorrelation due to the random spikes at lags 14 and 16, but they fall under the blue band, and there is no drop-off point and no pattern indicating low to none autocorrelation so I think the model is solid overall."
   ]
  },
  {
   "cell_type": "code",
   "execution_count": 39,
   "metadata": {},
   "outputs": [
    {
     "data": {
      "image/png": "[encoded data removed]",
      "text/plain": [
       "Plot with title \"\""
      ]
     },
     "metadata": {
      "image/png": {
       "height": 360,
       "width": 720
      }
     },
     "output_type": "display_data"
    }
   ],
   "source": [
    "forecast::tsdisplay(model$residuals)"
   ]
  },
  {
   "cell_type": "code",
   "execution_count": 44,
   "metadata": {},
   "outputs": [
    {
     "data": {
      "text/plain": [
       "\n",
       "\tBox-Ljung test\n",
       "\n",
       "data:  model$residuals\n",
       "X-squared = 9.6321, df = 10, p-value = 0.4733\n"
      ]
     },
     "metadata": {},
     "output_type": "display_data"
    }
   ],
   "source": [
    "Box.test(x=model$residuals, lag=10, type=\"Ljung-Box\")"
   ]
  },
  {
   "cell_type": "markdown",
   "metadata": {},
   "source": [
    "H0: The residuals of the model are white noise.\n",
    "If we assume confidence level of 95%, given that the p-value is substantially bigger than 0.05 (significance level for 95% confidence), from the Ljung-Box test we can confirm the null hypothesis and say that the model residuals show no significant autocorrelation and can be considered as white noise."
   ]
  },
  {
   "cell_type": "markdown",
   "metadata": {},
   "source": [
    "**(E) Use your model and forecast ℎ=5 periods into the future.**"
   ]
  },
  {
   "cell_type": "code",
   "execution_count": 47,
   "metadata": {},
   "outputs": [],
   "source": [
    "future_data <- forecast(model, h=5)"
   ]
  },
  {
   "cell_type": "code",
   "execution_count": 48,
   "metadata": {},
   "outputs": [
    {
     "data": {
      "image/png": "[encoded data removed]",
      "text/plain": [
       "Plot with title \"Forecasts from ARIMA(0,0,1) with non-zero mean\""
      ]
     },
     "metadata": {
      "image/png": {
       "height": 360,
       "width": 720
      }
     },
     "output_type": "display_data"
    }
   ],
   "source": [
    "plot(future_data)"
   ]
  },
  {
   "cell_type": "markdown",
   "metadata": {},
   "source": [
    "As we can see from the prediction, the model accounts for the current trend at the end of the actual observations but from the second observation converges towards the mean."
   ]
  },
  {
   "cell_type": "markdown",
   "metadata": {},
   "source": [
    "# **Task Set 2: Time series decomposition**\n",
    "\n",
    "Run the code below to get a series based on your student code"
   ]
  },
  {
   "cell_type": "code",
   "execution_count": 49,
   "metadata": {},
   "outputs": [],
   "source": [
    "DT_2 <- get_ts_dec(STUDENT_CODE)"
   ]
  },
  {
   "cell_type": "code",
   "execution_count": 52,
   "metadata": {},
   "outputs": [
    {
     "name": "stdout",
     "output_type": "stream",
     "text": [
      "          Y       date\n",
      "1: 2.642516 1950-01-01\n",
      "2: 5.737224 1950-02-01\n",
      "3: 5.604169 1950-03-01\n",
      "4: 4.829837 1950-04-01\n",
      "5: 3.728421 1950-05-01\n",
      "6: 1.351729 1950-06-01\n"
     ]
    }
   ],
   "source": [
    "print(head(DT_2))"
   ]
  },
  {
   "cell_type": "code",
   "execution_count": 53,
   "metadata": {},
   "outputs": [
    {
     "name": "stdout",
     "output_type": "stream",
     "text": [
      "              Y       date\n",
      "  1:  2.6425158 1950-01-01\n",
      "  2:  5.7372237 1950-02-01\n",
      "  3:  5.6041689 1950-03-01\n",
      "  4:  4.8298372 1950-04-01\n",
      "  5:  3.7284206 1950-05-01\n",
      "  6:  1.3517291 1950-06-01\n",
      "  7: -1.3142413 1950-07-01\n",
      "  8: -2.5112717 1950-08-01\n",
      "  9: -4.2664038 1950-09-01\n",
      " 10: -2.2534119 1950-10-01\n",
      " 11:  0.2017314 1950-11-01\n",
      " 12:  2.7473540 1950-12-01\n",
      " 13:  4.7403152 1951-01-01\n",
      " 14:  7.0090151 1951-02-01\n",
      " 15:  7.4777484 1951-03-01\n",
      " 16:  8.2030944 1951-04-01\n",
      " 17:  5.5596688 1951-05-01\n",
      " 18:  2.9608673 1951-06-01\n",
      " 19:  1.8289253 1951-07-01\n",
      " 20: -0.1639283 1951-08-01\n",
      " 21: -1.0285300 1951-09-01\n",
      " 22:  0.4852535 1951-10-01\n",
      " 23:  2.0832199 1951-11-01\n",
      " 24:  4.3163680 1951-12-01\n",
      " 25:  7.7185186 1952-01-01\n",
      " 26:  9.3317131 1952-02-01\n",
      " 27: 10.3118967 1952-03-01\n",
      " 28:  9.6655941 1952-04-01\n",
      " 29:  7.4989720 1952-05-01\n",
      " 30:  5.8375138 1952-06-01\n",
      " 31:  3.4799772 1952-07-01\n",
      " 32:  2.6815651 1952-08-01\n",
      " 33:  1.3351370 1952-09-01\n",
      " 34:  3.0748617 1952-10-01\n",
      " 35:  4.5581817 1952-11-01\n",
      " 36:  6.6668325 1952-12-01\n",
      " 37:  8.8389862 1953-01-01\n",
      " 38: 11.8571566 1953-02-01\n",
      " 39: 13.2447662 1953-03-01\n",
      " 40: 11.5615727 1953-04-01\n",
      " 41: 11.0088424 1953-05-01\n",
      " 42:  8.9231859 1953-06-01\n",
      " 43:  5.7438855 1953-07-01\n",
      " 44:  5.9117481 1953-08-01\n",
      " 45:  3.5373533 1953-09-01\n",
      " 46:  4.7910446 1953-10-01\n",
      " 47:  6.8845362 1953-11-01\n",
      " 48:  9.7362476 1953-12-01\n",
      " 49: 12.4757988 1954-01-01\n",
      " 50: 14.0602052 1954-02-01\n",
      " 51: 14.6970926 1954-03-01\n",
      " 52: 14.7887768 1954-04-01\n",
      " 53: 13.2547494 1954-05-01\n",
      " 54: 10.6729831 1954-06-01\n",
      " 55:  7.9541155 1954-07-01\n",
      " 56:  6.1172755 1954-08-01\n",
      " 57:  6.9042220 1954-09-01\n",
      " 58:  7.3078936 1954-10-01\n",
      " 59:  9.1584026 1954-11-01\n",
      " 60: 11.9750338 1954-12-01\n",
      " 61: 15.3329285 1955-01-01\n",
      " 62: 17.0693193 1955-02-01\n",
      " 63: 17.1434326 1955-03-01\n",
      " 64: 17.6945995 1955-04-01\n",
      " 65: 14.9581404 1955-05-01\n",
      " 66: 12.6793998 1955-06-01\n",
      " 67: 11.1915025 1955-07-01\n",
      " 68:  9.5089069 1955-08-01\n",
      " 69:  9.4274214 1955-09-01\n",
      " 70:  9.6212246 1955-10-01\n",
      " 71: 11.4263179 1955-11-01\n",
      " 72: 13.9315459 1955-12-01\n",
      " 73: 16.9964017 1956-01-01\n",
      " 74: 19.5318532 1956-02-01\n",
      " 75: 20.8503957 1956-03-01\n",
      " 76: 20.0200550 1956-04-01\n",
      " 77: 17.3734013 1956-05-01\n",
      " 78: 16.6760820 1956-06-01\n",
      " 79: 14.1967206 1956-07-01\n",
      " 80: 11.8028372 1956-08-01\n",
      " 81: 11.1343651 1956-09-01\n",
      " 82: 13.2064068 1956-10-01\n",
      " 83: 14.1730608 1956-11-01\n",
      " 84: 18.1437333 1956-12-01\n",
      " 85: 18.3323170 1957-01-01\n",
      " 86: 21.7244833 1957-02-01\n",
      " 87: 23.1312490 1957-03-01\n",
      " 88: 21.8722852 1957-04-01\n",
      " 89: 20.2639659 1957-05-01\n",
      " 90: 17.3974940 1957-06-01\n",
      " 91: 16.4967508 1957-07-01\n",
      " 92: 14.0142989 1957-08-01\n",
      " 93: 13.5106773 1957-09-01\n",
      " 94: 13.8302983 1957-10-01\n",
      " 95: 15.7980146 1957-11-01\n",
      " 96: 19.3177855 1957-12-01\n",
      " 97: 21.5126384 1958-01-01\n",
      " 98: 23.8452020 1958-02-01\n",
      " 99: 24.9503016 1958-03-01\n",
      "100: 24.0407265 1958-04-01\n",
      "              Y       date\n"
     ]
    }
   ],
   "source": [
    "print(DT_2)"
   ]
  },
  {
   "cell_type": "markdown",
   "metadata": {},
   "source": [
    "Carry out the tasks below:\n",
    "\n",
    "- **(A)** Transform your series into a time series object - make sure to specify the **frequency**, start and end dates. Then examine the series plot,as well as the $\\rm ACF$ and $\\rm PACF$ charts - is trend and seasonality present in your series?\n",
    "- **(B)** Decompose the time series by removing the trend and seasonal components using a method **which allows forecasting** of these components.\n",
    "- **(C)** Examine the residuals and verify that there is no more trend and seasonality. Are the residuals autocorrelated?\n",
    "- **(D)** If the residuals are autocorrelated - estimate an appropriate model for the residuals. Check whether your specified model captures all of the autocorrelation of the residuals.\n",
    "- **(E)** Predict the trend, seasonal and remainder components **2 years** into the future. Combine these components and plot them along with the historical series values."
   ]
  },
  {
   "cell_type": "markdown",
   "metadata": {},
   "source": [
    "*Solutions*:"
   ]
  },
  {
   "cell_type": "markdown",
   "metadata": {},
   "source": [
    "**(A) Transform your series into a time series object - make sure to specify the frequency, start and end dates. Then examine the series plot, as well as the ACF and PACF charts - is trend and seasonality present in your series?**"
   ]
  },
  {
   "cell_type": "code",
   "execution_count": 57,
   "metadata": {},
   "outputs": [],
   "source": [
    "DT_2 <- ts(DT_2, start=c(1950, 01, 01), end=c(1958, 04, 01), freq=12)"
   ]
  },
  {
   "cell_type": "code",
   "execution_count": 70,
   "metadata": {},
   "outputs": [
    {
     "data": {
      "image/png": "[encoded data removed]",
      "text/plain": [
       "Plot with title \"\""
      ]
     },
     "metadata": {
      "image/png": {
       "height": 360,
       "width": 720
      }
     },
     "output_type": "display_data"
    }
   ],
   "source": [
    "pl_dt <- DT_2[,-2]\n",
    "tsdisplay(pl_dt)"
   ]
  },
  {
   "cell_type": "markdown",
   "metadata": {},
   "source": [
    "As we can see from the plots above, the clearly visible oscillations in the acf plot indicate seasonality which is pretty strong, and the decline indicates a trend over time."
   ]
  },
  {
   "cell_type": "markdown",
   "metadata": {},
   "source": [
    "**(B) Decompose the time series by removing the trend and seasonal components using a method which allows forecasting of these components.**"
   ]
  },
  {
   "cell_type": "code",
   "execution_count": 75,
   "metadata": {},
   "outputs": [
    {
     "data": {
      "image/png": "[encoded data removed]",
      "text/plain": [
       "plot without title"
      ]
     },
     "metadata": {
      "image/png": {
       "height": 360,
       "width": 720
      }
     },
     "output_type": "display_data"
    }
   ],
   "source": [
    "dc <- decompose(pl_dt, type=\"additive\")\n",
    "plot(dc)"
   ]
  },
  {
   "cell_type": "markdown",
   "metadata": {},
   "source": [
    "For this purpose, I decomposed the data based on the Seasonal and Trend Decomposition using LOESS method (STL), which uses polynomial regression, allowing for forecasts to be made."
   ]
  },
  {
   "cell_type": "markdown",
   "metadata": {},
   "source": [
    "**(C) Examine the residuals and verify that there is no more trend and seasonality. Are the residuals autocorrelated?**"
   ]
  },
  {
   "cell_type": "code",
   "execution_count": 86,
   "metadata": {},
   "outputs": [
    {
     "data": {
      "image/png": "[encoded data removed]",
      "text/plain": [
       "plot without title"
      ]
     },
     "metadata": {
      "image/png": {
       "height": 360,
       "width": 720
      }
     },
     "output_type": "display_data"
    }
   ],
   "source": [
    "Plot <- stl(pl_dt, s.window=\"periodic\", robust=TRUE)\n",
    "plot(Plot)"
   ]
  },
  {
   "cell_type": "markdown",
   "metadata": {},
   "source": [
    "Trend component"
   ]
  },
  {
   "cell_type": "code",
   "execution_count": 108,
   "metadata": {},
   "outputs": [
    {
     "data": {
      "image/png": "[encoded data removed]",
      "text/plain": [
       "Plot with title \"\""
      ]
     },
     "metadata": {
      "image/png": {
       "height": 360,
       "width": 720
      }
     },
     "output_type": "display_data"
    }
   ],
   "source": [
    "tsdisplay(Plot$time.series[,2])"
   ]
  },
  {
   "cell_type": "markdown",
   "metadata": {},
   "source": [
    "Seasonality component"
   ]
  },
  {
   "cell_type": "code",
   "execution_count": 109,
   "metadata": {},
   "outputs": [
    {
     "data": {
      "image/png": "[encoded data removed]",
      "text/plain": [
       "Plot with title \"\""
      ]
     },
     "metadata": {
      "image/png": {
       "height": 360,
       "width": 720
      }
     },
     "output_type": "display_data"
    }
   ],
   "source": [
    "tsdisplay(Plot$time.series[,1])"
   ]
  },
  {
   "cell_type": "code",
   "execution_count": 103,
   "metadata": {},
   "outputs": [
    {
     "data": {
      "image/png": "[encoded data removed]",
      "text/plain": [
       "Plot with title \"\""
      ]
     },
     "metadata": {
      "image/png": {
       "height": 360,
       "width": 720
      }
     },
     "output_type": "display_data"
    }
   ],
   "source": [
    "decomposed <- Plot$time.series[,3]\n",
    "tsdisplay(decomposed)"
   ]
  },
  {
   "cell_type": "markdown",
   "metadata": {},
   "source": [
    "As we can see, the residuals do not exhibit neither trend nor seasonality, but from examining the acf and pacf plots I think that the residuals have some autocorrelation, so I created a model in the next task to fix that issue."
   ]
  },
  {
   "cell_type": "markdown",
   "metadata": {},
   "source": [
    "**(D) If the residuals are autocorrelated - estimate an appropriate model for the residuals. Check whether your specified model captures all of the autocorrelation of the residuals.**"
   ]
  },
  {
   "cell_type": "code",
   "execution_count": 106,
   "metadata": {},
   "outputs": [
    {
     "data": {
      "image/png": "[encoded data removed]",
      "text/plain": [
       "Plot with title \"\""
      ]
     },
     "metadata": {
      "image/png": {
       "height": 360,
       "width": 720
      }
     },
     "output_type": "display_data"
    }
   ],
   "source": [
    "mod <- auto.arima(decomposed, ic=\"bic\")\n",
    "tsdisplay(mod$residuals)"
   ]
  },
  {
   "cell_type": "markdown",
   "metadata": {},
   "source": [
    "From the acf and pacf plots above I think that the autocorrelation has been almost entirely eliminated, and these residuals are truly white noise."
   ]
  },
  {
   "cell_type": "markdown",
   "metadata": {},
   "source": [
    "**(E) Predict the trend, seasonal and remainder components 2 years into the future. Combine these components and plot them along with the historical series values.**"
   ]
  },
  {
   "cell_type": "code",
   "execution_count": 112,
   "metadata": {},
   "outputs": [
    {
     "data": {
      "image/png": "[encoded data removed]",
      "text/plain": [
       "Plot with title \"Forecasts from ETS(M,A,N)\""
      ]
     },
     "metadata": {
      "image/png": {
       "height": 360,
       "width": 720
      }
     },
     "output_type": "display_data"
    }
   ],
   "source": [
    "trend_f <- forecast(Plot$time.series[,2], h=24)\n",
    "plot(trend_f)"
   ]
  },
  {
   "cell_type": "code",
   "execution_count": 114,
   "metadata": {},
   "outputs": [
    {
     "data": {
      "image/png": "[encoded data removed]",
      "text/plain": [
       "Plot with title \"Forecasts from ETS(A,N,A)\""
      ]
     },
     "metadata": {
      "image/png": {
       "height": 360,
       "width": 720
      }
     },
     "output_type": "display_data"
    }
   ],
   "source": [
    "seasonal_f <- forecast(Plot$time.series[,1], h=24)\n",
    "plot(seasonal_f)"
   ]
  },
  {
   "cell_type": "code",
   "execution_count": 117,
   "metadata": {},
   "outputs": [
    {
     "data": {
      "image/png": "[encoded data removed]",
      "text/plain": [
       "Plot with title \"Forecasts from ETS(A,N,N)\""
      ]
     },
     "metadata": {
      "image/png": {
       "height": 360,
       "width": 720
      }
     },
     "output_type": "display_data"
    }
   ],
   "source": [
    "residual_f <- forecast(Plot$time.series[,3], h=24)\n",
    "plot(residual_f)"
   ]
  },
  {
   "cell_type": "code",
   "execution_count": 130,
   "metadata": {},
   "outputs": [],
   "source": [
    "combined_f <- trend_f$mean + seasonal_f$mean + residual_f$mean"
   ]
  },
  {
   "cell_type": "code",
   "execution_count": 131,
   "metadata": {},
   "outputs": [
    {
     "data": {
      "image/png": "[encoded data removed]",
      "text/plain": [
       "plot without title"
      ]
     },
     "metadata": {
      "image/png": {
       "height": 360,
       "width": 720
      }
     },
     "output_type": "display_data"
    }
   ],
   "source": [
    "merged <- ts(c(pl_dt, combined_f), start=start(pl_dt), frequency=frequency(pl_dt))\n",
    "plot(merged)"
   ]
  },
  {
   "cell_type": "markdown",
   "metadata": {},
   "source": [
    "As it can be seen, the random spikes could not be reproduced in the predictions but the trend and seasonality are very well reproduced."
   ]
  },
  {
   "cell_type": "markdown",
   "metadata": {},
   "source": [
    "# **Task Set 3: Conditional Heteroskedastic Models**\n",
    "\n",
    "Run the code below to get a series based on your student code"
   ]
  },
  {
   "cell_type": "markdown",
   "metadata": {},
   "source": [
    "get_data <- function(s_code){\n",
    "    s_name <- sample(c(\"NVDA\", \"INTC\", \"AMD\", \"FB\", \"MSFT\",\n",
    "                       \"IBM\", \"TWTR\", \"NFLX\", \"GOOGL\", \"AMZN\", \"EBAY\", \"BABA\",\n",
    "                       \"DIS\", \"TSLA\", \"KO\", \"PEP\", \"ADBE\",\n",
    "                       \"AAL\", \"HPQ\", \"MCD\", \"NDAQ\"), 1)\n",
    "    set.seed(s_code)\n",
    "    dt <- quantmod::getSymbols(s_name, auto.assign = FALSE, src = \"yahoo\", from = \"2015-01-01\", to = \"2023-01-01\")\n",
    "    return(dt)\n",
    "}\n",
    "DT_3 <- get_data(STUDENT_CODE)"
   ]
  },
  {
   "cell_type": "code",
   "execution_count": 134,
   "metadata": {},
   "outputs": [
    {
     "name": "stdout",
     "output_type": "stream",
     "text": [
      "           AMD.Open AMD.High AMD.Low AMD.Close AMD.Volume AMD.Adjusted\n",
      "2015-01-02     2.67     2.67    2.67      2.67          0         2.67\n",
      "2015-01-05     2.67     2.70    2.64      2.66    8878200         2.66\n",
      "2015-01-06     2.65     2.66    2.55      2.63   13912500         2.63\n",
      "2015-01-07     2.63     2.65    2.54      2.58   12377600         2.58\n",
      "2015-01-08     2.59     2.65    2.56      2.61   11136600         2.61\n",
      "2015-01-09     2.63     2.64    2.58      2.63    8907600         2.63\n"
     ]
    }
   ],
   "source": [
    "print(head(DT_3))"
   ]
  },
  {
   "cell_type": "markdown",
   "metadata": {},
   "source": [
    "Carry out the tasks below:\n",
    "\n",
    "- **(A)** Use the closing price and calculate the **log returns**. Check whether your series has heavy tails and long memory and Taylor effect.\n",
    "- **(B)** Create a model for the mean of the series. Then check whether $\\rm ARCH$ effects are present in the model residuals.\n",
    "- **(C)** Fit a model for the variance (if your series has no $\\rm ARCH$ effects, then fit an $\\rm ARCH(1)$ model for the variance equation) and estimate the mean and variance equations at the same time.\n",
    "- **(D)** Analyse the standardized residuals for autocorrelation and $\\rm ARCH$ effects. If $\\rm ARCH$ effects are still present in your series - try one more different specification for the variance equation."
   ]
  },
  {
   "cell_type": "markdown",
   "metadata": {},
   "source": [
    "*Solutions*:"
   ]
  },
  {
   "cell_type": "markdown",
   "metadata": {},
   "source": [
    "**(A) Use the closing price and calculate the log returns. Check whether your series has heavy tails and long memory and Taylor effect.**"
   ]
  },
  {
   "cell_type": "code",
   "execution_count": 136,
   "metadata": {},
   "outputs": [],
   "source": [
    "close <- DT_3$AMD.Close"
   ]
  },
  {
   "cell_type": "code",
   "execution_count": 137,
   "metadata": {},
   "outputs": [],
   "source": [
    "log_returns <- diff(log(close))"
   ]
  },
  {
   "cell_type": "code",
   "execution_count": 153,
   "metadata": {},
   "outputs": [],
   "source": [
    "log_returns <- log_returns[!is.na(log_returns)]"
   ]
  },
  {
   "cell_type": "code",
   "execution_count": 154,
   "metadata": {},
   "outputs": [
    {
     "name": "stderr",
     "output_type": "stream",
     "text": [
      "Warning message:\n",
      "\"package 'evir' is in use and will not be installed\"\n"
     ]
    }
   ],
   "source": [
    "library(fBasics)\n",
    "install.packages(\"evir\")\n",
    "library(evir)"
   ]
  },
  {
   "cell_type": "code",
   "execution_count": 156,
   "metadata": {},
   "outputs": [
    {
     "name": "stdout",
     "output_type": "stream",
     "text": [
      "[1] 4.583013e-05\n"
     ]
    }
   ],
   "source": [
    "library(fracdiff)\n",
    "\n",
    "fracdiff_test <- fracdiff(log_returns)\n",
    "d_value <- fracdiff_test$d\n",
    "print(d_value)"
   ]
  },
  {
   "cell_type": "markdown",
   "metadata": {},
   "source": [
    "The d value is bigger than 0, so the time series has long memory."
   ]
  }
 ],
 "metadata": {
  "kernelspec": {
   "display_name": "R",
   "language": "R",
   "name": "ir"
  },
  "language_info": {
   "codemirror_mode": "r",
   "file_extension": ".r",
   "mimetype": "text/x-r-source",
   "name": "R",
   "pygments_lexer": "r",
   "version": "4.2.2"
  }
 },
 "nbformat": 4,
 "nbformat_minor": 4
}
