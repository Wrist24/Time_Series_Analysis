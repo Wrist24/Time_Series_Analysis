{
 "cells": [
  {
   "cell_type": "markdown",
   "metadata": {},
   "source": [
    "# Practical Econometrics II: Exam (<b style=\"color:blue\">R</b>)"
   ]
  },
  {
   "cell_type": "markdown",
   "metadata": {},
   "source": [
    "# 2023-06-14"
   ]
  },
  {
   "cell_type": "markdown",
   "metadata": {},
   "source": [
    "### <i> <b style=\"color:red\">Stefan Ristikj</b> </i>"
   ]
  },
  {
   "cell_type": "markdown",
   "metadata": {},
   "source": [
    "\n",
    "---\n",
    "---"
   ]
  },
  {
   "cell_type": "markdown",
   "metadata": {},
   "source": [
    "## Requirements\n",
    "\n",
    "- All of the answers must be explained and justified by either tests, model output, or charts;\n",
    "- If you are testing a hypothesis - write down the **null** and the **alternative** hypothesis; Also **clearly** state the results of the test.\n",
    "- If you estimate a model, or carry out a test and make some conclusions based on it - indicate **the reason** that these conclusions are based on (e.g. $p$-value, $t$-statistic, residuals, plots, etc. some other test results, model functional form, coefficient interpretation, etc.);\n",
    "- You should understand what your code does and how it works. You are also responsible that your code **is correctly working**.\n",
    "- Plots, Charts, etc. should be readable, with clear explanations - either by including a legend or writing a couple of sentences explaining which colors correspond to which data/models/forecasts of interest. **Do not be afraid to comment the charts** - what do you see from the plots - is everything as you expect, do you identify any **potential** problems?\n",
    "- **Important!** Do not forget to use `set.seed(STUDENT_CODE)` if you need to sample or simulate data, where `STUDENT_CODE` is **your** student code.\n",
    "\n",
    "- Your solutions have to be coherent - i.e. if one task requires to select the best model, then the next task requires to write down the equation and the third one requires to carry out some model testing - clearly state what model you chose, **and why**, and use **only that model**, **unless the tasks specify otherwise**.\n",
    "\n",
    "- <b style=\"color:red\">If a task REQUIRES you to provide comments on the results - providing only code without explanation of the results does NOT count as a solution.</b>\n",
    "\n",
    "----\n",
    "----"
   ]
  },
  {
   "cell_type": "markdown",
   "metadata": {},
   "source": [
    "## Some Recommended Libraries\n",
    "\n",
    "You may need the following libraries:"
   ]
  },
  {
   "cell_type": "code",
   "execution_count": 1,
   "metadata": {},
   "outputs": [
    {
     "data": {
      "text/html": [
       "<table class=\"dataframe\">\n",
       "<caption>A matrix: 2 × 6 of type dbl</caption>\n",
       "<thead>\n",
       "\t<tr><th></th><th scope=col>used</th><th scope=col>(Mb)</th><th scope=col>gc trigger</th><th scope=col>(Mb)</th><th scope=col>max used</th><th scope=col>(Mb)</th></tr>\n",
       "</thead>\n",
       "<tbody>\n",
       "\t<tr><th scope=row>Ncells</th><td> 618426</td><td>33.1</td><td>1317620</td><td>70.4</td><td>1317620</td><td>70.4</td></tr>\n",
       "\t<tr><th scope=row>Vcells</th><td>1109069</td><td> 8.5</td><td>8388608</td><td>64.0</td><td>1632695</td><td>12.5</td></tr>\n",
       "</tbody>\n",
       "</table>\n"
      ],
      "text/latex": [
       "A matrix: 2 × 6 of type dbl\n",
       "\\begin{tabular}{r|llllll}\n",
       "  & used & (Mb) & gc trigger & (Mb) & max used & (Mb)\\\\\n",
       "\\hline\n",
       "\tNcells &  618426 & 33.1 & 1317620 & 70.4 & 1317620 & 70.4\\\\\n",
       "\tVcells & 1109069 &  8.5 & 8388608 & 64.0 & 1632695 & 12.5\\\\\n",
       "\\end{tabular}\n"
      ],
      "text/markdown": [
       "\n",
       "A matrix: 2 × 6 of type dbl\n",
       "\n",
       "| <!--/--> | used | (Mb) | gc trigger | (Mb) | max used | (Mb) |\n",
       "|---|---|---|---|---|---|---|\n",
       "| Ncells |  618426 | 33.1 | 1317620 | 70.4 | 1317620 | 70.4 |\n",
       "| Vcells | 1109069 |  8.5 | 8388608 | 64.0 | 1632695 | 12.5 |\n",
       "\n"
      ],
      "text/plain": [
       "       used    (Mb) gc trigger (Mb) max used (Mb)\n",
       "Ncells  618426 33.1 1317620    70.4 1317620  70.4\n",
       "Vcells 1109069  8.5 8388608    64.0 1632695  12.5"
      ]
     },
     "metadata": {},
     "output_type": "display_data"
    }
   ],
   "source": [
    "rm(list = ls())\n",
    "gc()"
   ]
  },
  {
   "cell_type": "code",
   "execution_count": 3,
   "metadata": {},
   "outputs": [
    {
     "name": "stderr",
     "output_type": "stream",
     "text": [
      "Installing package into 'C:/Users/risti/AppData/Local/R/win-library/4.2'\n",
      "(as 'lib' is unspecified)\n",
      "\n"
     ]
    },
    {
     "name": "stdout",
     "output_type": "stream",
     "text": [
      "package 'imputeTS' successfully unpacked and MD5 sums checked\n",
      "\n",
      "The downloaded binary packages are in\n",
      "\tC:\\Users\\risti\\AppData\\Local\\Temp\\RtmpAZjXGi\\downloaded_packages\n"
     ]
    }
   ],
   "source": [
    "install.packages(\"imputeTS\")"
   ]
  },
  {
   "cell_type": "code",
   "execution_count": 6,
   "metadata": {},
   "outputs": [
    {
     "name": "stderr",
     "output_type": "stream",
     "text": [
      "Warning message:\n",
      "\"package 'plm' was built under R version 4.2.3\"\n"
     ]
    }
   ],
   "source": [
    "suppressPackageStartupMessages({\n",
    "  suppressMessages({\n",
    "    library(tidyverse)\n",
    "    library(ggplot2)\n",
    "    library(data.table)\n",
    "    library(imputeTS)\n",
    "    library(tempdisagg)\n",
    "    library(plm)\n",
    "  })\n",
    "})"
   ]
  },
  {
   "cell_type": "markdown",
   "metadata": {},
   "source": [
    "You can change the dimensions of plots by midifying the width and height in the code below:"
   ]
  },
  {
   "cell_type": "code",
   "execution_count": 30,
   "metadata": {},
   "outputs": [],
   "source": [
    "options(repr.plot.width = 20)\n",
    "options(repr.plot.height = 8)"
   ]
  },
  {
   "cell_type": "markdown",
   "metadata": {},
   "source": [
    "You can also add in any other libraries that you will be using."
   ]
  },
  {
   "cell_type": "code",
   "execution_count": 8,
   "metadata": {},
   "outputs": [
    {
     "data": {
      "text/plain": [
       "NULL"
      ]
     },
     "metadata": {},
     "output_type": "display_data"
    }
   ],
   "source": [
    "suppressPackageStartupMessages({\n",
    "  suppressWarnings({\n",
    "    # Add any additional libraries here\n",
    "  })\n",
    "})"
   ]
  },
  {
   "cell_type": "markdown",
   "metadata": {},
   "source": [
    "## Function to get the data\n",
    "\n",
    "Below is an `.R` code file, which will be used to generate the data, based on your student code:"
   ]
  },
  {
   "cell_type": "code",
   "execution_count": 10,
   "metadata": {},
   "outputs": [],
   "source": [
    "source(\"http://web.vu.lt/mif/a.buteikis/wp-content/uploads/2023/06/EXAM2023.R\")"
   ]
  },
  {
   "cell_type": "markdown",
   "metadata": {},
   "source": [
    "## Specify your student code\n",
    "\n",
    "**Replace** `YOUR_STUDENT_CODE` with your student code and run the following code to get your data sample:"
   ]
  },
  {
   "cell_type": "code",
   "execution_count": 9,
   "metadata": {},
   "outputs": [],
   "source": [
    "STUDENT_CODE = 2309140"
   ]
  },
  {
   "cell_type": "markdown",
   "metadata": {},
   "source": [
    "Your student code is a unique 7-digit code. The start of the student code depends on the year and study programme, with the last 4 digits being unique to each student. For example:\n",
    "\n",
    "- `181xxxx` for VU Econometrics students, who enrolled in 2018;\n",
    "- `191xxxx` for VU Econometrics students, who enrolled in 2019;\n",
    "- etc.\n",
    "- `210xxxx`, `220xxxx`, etc. for ERASMUS/international students;"
   ]
  },
  {
   "cell_type": "markdown",
   "metadata": {},
   "source": [
    "# Get the dataset\n",
    "\n",
    "Run the code below to get the equation for this exercise set:"
   ]
  },
  {
   "cell_type": "code",
   "execution_count": 11,
   "metadata": {},
   "outputs": [
    {
     "name": "stdout",
     "output_type": "stream",
     "text": [
      "[1] \"-------------------------------------------------------\"\n",
      "[1] \"Frequency: monthly\"\n",
      "[1] \"Y  = logarithm of motor gasoline consumption per car\"\n",
      "[1] \"X1 = logarithm of real per-capita income\"\n",
      "[1] \"X2 = logarithm of real motor gasoline price\"\n",
      "[1] \"X3 = logarithm of the stock of cars per capita\"\n",
      "[1] \"-------------------------------------------------------\"\n",
      "[1] \"For TASK 1: 5th individual Y has missing data\"\n",
      "[1] \"For TASK 2: 8th individual Y has NO data\"\n"
     ]
    }
   ],
   "source": [
    "dt_list <- get_data(STUDENT_CODE)\n",
    "DT_ORIGINAL <- dt_list[[1]] %>% copy()\n",
    "DT_FINAL    <- DT_ORIGINAL %>% copy()\n",
    "Y8_annual   <- dt_list[[2]] %>% copy()\n",
    "DT_proxy    <- dt_list[[3]] %>% copy()\n",
    "rm(dt_list)"
   ]
  },
  {
   "cell_type": "markdown",
   "metadata": {},
   "source": [
    "### `DT_ORIGINAL` is the initial **panel** dataset, which contains missing values for two countries out of 12:"
   ]
  },
  {
   "cell_type": "code",
   "execution_count": 12,
   "metadata": {},
   "outputs": [
    {
     "name": "stdout",
     "output_type": "stream",
     "text": [
      "Rows: 228\n",
      "Columns: 6\n",
      "$ country \u001b[3m\u001b[90m<dbl>\u001b[39m\u001b[23m 1, 1, 1, 1, 1, 1, 1, 1, 1, 1, 1, 1, 1, 1, 1, 1, 1, 1, 1, 2, 2,…\n",
      "$ time    \u001b[3m\u001b[90m<dbl>\u001b[39m\u001b[23m 1960.083, 1960.167, 1960.250, 1960.333, 1960.417, 1960.500, 19…\n",
      "$ Y       \u001b[3m\u001b[90m<dbl>\u001b[39m\u001b[23m 4.173244, 4.100989, 4.073177, 4.059509, 4.037689, 4.033983, 4.…\n",
      "$ X1      \u001b[3m\u001b[90m<dbl>\u001b[39m\u001b[23m -6.474277, -6.426006, -6.407308, -6.370679, -6.322247, -6.2946…\n",
      "$ X2      \u001b[3m\u001b[90m<dbl>\u001b[39m\u001b[23m -0.3345476, -0.3513276, -0.3795177, -0.4142514, -0.4453354, -0…\n",
      "$ X3      \u001b[3m\u001b[90m<dbl>\u001b[39m\u001b[23m -9.766840, -9.608622, -9.457257, -9.343155, -9.237739, -9.1239…\n"
     ]
    }
   ],
   "source": [
    "glimpse(DT_ORIGINAL)"
   ]
  },
  {
   "cell_type": "markdown",
   "metadata": {},
   "source": [
    "### `DT_FINAL` is the dataset where you can override the missing values with the ones you create in the first two tasks. "
   ]
  },
  {
   "cell_type": "code",
   "execution_count": 13,
   "metadata": {},
   "outputs": [
    {
     "name": "stdout",
     "output_type": "stream",
     "text": [
      "Rows: 228\n",
      "Columns: 6\n",
      "$ country \u001b[3m\u001b[90m<dbl>\u001b[39m\u001b[23m 1, 1, 1, 1, 1, 1, 1, 1, 1, 1, 1, 1, 1, 1, 1, 1, 1, 1, 1, 2, 2,…\n",
      "$ time    \u001b[3m\u001b[90m<dbl>\u001b[39m\u001b[23m 1960.083, 1960.167, 1960.250, 1960.333, 1960.417, 1960.500, 19…\n",
      "$ Y       \u001b[3m\u001b[90m<dbl>\u001b[39m\u001b[23m 4.173244, 4.100989, 4.073177, 4.059509, 4.037689, 4.033983, 4.…\n",
      "$ X1      \u001b[3m\u001b[90m<dbl>\u001b[39m\u001b[23m -6.474277, -6.426006, -6.407308, -6.370679, -6.322247, -6.2946…\n",
      "$ X2      \u001b[3m\u001b[90m<dbl>\u001b[39m\u001b[23m -0.3345476, -0.3513276, -0.3795177, -0.4142514, -0.4453354, -0…\n",
      "$ X3      \u001b[3m\u001b[90m<dbl>\u001b[39m\u001b[23m -9.766840, -9.608622, -9.457257, -9.343155, -9.237739, -9.1239…\n"
     ]
    }
   ],
   "source": [
    "glimpse(DT_FINAL)"
   ]
  },
  {
   "cell_type": "markdown",
   "metadata": {},
   "source": [
    "Think of `DT_ORIGINAL` as a backup that you can always use to re-run the imputation code.\n",
    "\n",
    "### For the disaggregation task - you have two additional data variables.\n",
    "\n",
    "The **annual** values of `Y` for the `8th` individual:"
   ]
  },
  {
   "cell_type": "code",
   "execution_count": 14,
   "metadata": {},
   "outputs": [
    {
     "name": "stdout",
     "output_type": "stream",
     "text": [
      "Rows: 2\n",
      "Columns: 3\n",
      "$ country \u001b[3m\u001b[90m<dbl>\u001b[39m\u001b[23m 8, 8\n",
      "$ year    \u001b[3m\u001b[90m<dbl>\u001b[39m\u001b[23m 1960, 1961\n",
      "$ Y       \u001b[3m\u001b[90m<dbl>\u001b[39m\u001b[23m 45.94259, 32.14311\n"
     ]
    }
   ],
   "source": [
    "glimpse(Y8_annual)"
   ]
  },
  {
   "cell_type": "markdown",
   "metadata": {},
   "source": [
    "And a couple of proxy variables to disaggregate the annual data: "
   ]
  },
  {
   "cell_type": "code",
   "execution_count": 15,
   "metadata": {},
   "outputs": [
    {
     "name": "stdout",
     "output_type": "stream",
     "text": [
      "Rows: 19\n",
      "Columns: 5\n",
      "$ country \u001b[3m\u001b[90m<dbl>\u001b[39m\u001b[23m 8, 8, 8, 8, 8, 8, 8, 8, 8, 8, 8, 8, 8, 8, 8, 8, 8, 8, 8\n",
      "$ time    \u001b[3m\u001b[90m<dbl>\u001b[39m\u001b[23m 1960.083, 1960.167, 1960.250, 1960.333, 1960.417, 1960.500, 19…\n",
      "$ Z1      \u001b[3m\u001b[90m<dbl>\u001b[39m\u001b[23m 0.4881141, 0.5096777, 0.5446682, 0.5422281, 0.5706644, 0.61037…\n",
      "$ Z2      \u001b[3m\u001b[90m<dbl>\u001b[39m\u001b[23m 4.817026, 4.722450, 4.565114, 4.675242, 4.561630, 4.518009, 4.…\n",
      "$ Z3      \u001b[3m\u001b[90m<dbl>\u001b[39m\u001b[23m 3.0101021, 5.1147479, 4.8037383, 4.5540060, 2.2458137, 0.21980…\n"
     ]
    }
   ],
   "source": [
    "glimpse(DT_proxy)"
   ]
  },
  {
   "cell_type": "markdown",
   "metadata": {},
   "source": [
    "# **Task Set 1: Time series imputation**\n",
    "\n",
    "You will firstly have to impute the missing values of the dependent variable of one country."
   ]
  },
  {
   "cell_type": "markdown",
   "metadata": {},
   "source": [
    "Carry out the tasks below:\n",
    "\n",
    "- **(A)** The dependent variable `Y` of the `5th` country in the `DT_ORIGINAL` dataset contains missing data - `filter` the data for this individual, `select` the dependent variable and plot the data to make sure that there are indeed mising values. Do you notice any trend or seasonal patterns?\n",
    "- **(B)** Select $3$ most appropriate methods from the `imputeTS` library to impute the missing values and visually compare the results. Then select the best method and overwrite the `Y` values of the `5th` country in the `DT_FINAL` dataset with the imputed values.\n",
    "\n",
    "**Note**: \n",
    "- you might need to use `ts()` to transform the variables into time series objects. Furthermore, **do not modify** `DT_ORIGINAL` just in case you'll want to re-do the calculations!\n",
    "\n",
    "**Hint**: assuming that `DT_FINAL` is ordered by time, you can override the values for the `5th` country using `data.table` syntax like `DT_FINAL[country == 5, Y := imputed_values]`, where `imputed_values` is a vector of imputed and original values."
   ]
  },
  {
   "cell_type": "markdown",
   "metadata": {},
   "source": [
    "*Solutions*:"
   ]
  },
  {
   "cell_type": "markdown",
   "metadata": {},
   "source": [
    "**(A) The dependent variable Y of the 5th country in the DT_ORIGINAL dataset contains missing data - filter the data for this individual, select the dependent variable and plot the data to make sure that there are indeed mising values. Do you notice any trend or seasonal patterns?**"
   ]
  },
  {
   "cell_type": "code",
   "execution_count": 32,
   "metadata": {},
   "outputs": [
    {
     "data": {
      "image/png": "[encoded data removed]",
      "text/plain": [
       "plot without title"
      ]
     },
     "metadata": {
      "image/png": {
       "height": 480,
       "width": 1200
      }
     },
     "output_type": "display_data"
    }
   ],
   "source": [
    "dt_visual <- DT_ORIGINAL[DT_ORIGINAL$country==5]\n",
    "plot(dt_visual$time, dt_visual$Y, type=\"l\", xlab=\"Time\", ylab=\"Y values\")"
   ]
  },
  {
   "cell_type": "code",
   "execution_count": 33,
   "metadata": {},
   "outputs": [
    {
     "data": {
      "text/html": [
       "<table class=\"dataframe\">\n",
       "<caption>A data.table: 19 × 6</caption>\n",
       "<thead>\n",
       "\t<tr><th scope=col>country</th><th scope=col>time</th><th scope=col>Y</th><th scope=col>X1</th><th scope=col>X2</th><th scope=col>X3</th></tr>\n",
       "\t<tr><th scope=col>&lt;dbl&gt;</th><th scope=col>&lt;dbl&gt;</th><th scope=col>&lt;dbl&gt;</th><th scope=col>&lt;dbl&gt;</th><th scope=col>&lt;dbl&gt;</th><th scope=col>&lt;dbl&gt;</th></tr>\n",
       "</thead>\n",
       "<tbody>\n",
       "\t<tr><td>5</td><td>1960.083</td><td>3.907704</td><td>-6.264363</td><td>-0.01959833</td><td>-9.145706</td></tr>\n",
       "\t<tr><td>5</td><td>1960.167</td><td>3.885623</td><td>-6.220883</td><td>-0.02386000</td><td>-9.044253</td></tr>\n",
       "\t<tr><td>5</td><td>1960.250</td><td>3.823666</td><td>-6.173592</td><td>-0.06892022</td><td>-8.930133</td></tr>\n",
       "\t<tr><td>5</td><td>1960.333</td><td>3.788997</td><td>-6.137060</td><td>-0.13792900</td><td>-8.818632</td></tr>\n",
       "\t<tr><td>5</td><td>1960.417</td><td>      NA</td><td>-6.087237</td><td>-0.19784646</td><td>-8.710965</td></tr>\n",
       "\t<tr><td>5</td><td>1960.500</td><td>3.760584</td><td>-6.048528</td><td>-0.23365325</td><td>-8.629390</td></tr>\n",
       "\t<tr><td>5</td><td>1960.583</td><td>      NA</td><td>-6.000836</td><td>-0.26427164</td><td>-8.545771</td></tr>\n",
       "\t<tr><td>5</td><td>1960.667</td><td>      NA</td><td>-5.955660</td><td>-0.29405795</td><td>-8.487370</td></tr>\n",
       "\t<tr><td>5</td><td>1960.750</td><td>3.778230</td><td>-5.901380</td><td>-0.32316179</td><td>-8.425551</td></tr>\n",
       "\t<tr><td>5</td><td>1960.833</td><td>3.773460</td><td>-5.840774</td><td>-0.31519087</td><td>-8.369136</td></tr>\n",
       "\t<tr><td>5</td><td>1960.917</td><td>      NA</td><td>-5.784181</td><td>-0.33384616</td><td>-8.327089</td></tr>\n",
       "\t<tr><td>5</td><td>1961.000</td><td>3.825962</td><td>-5.743144</td><td>-0.37945667</td><td>-8.279522</td></tr>\n",
       "\t<tr><td>5</td><td>1961.083</td><td>3.846677</td><td>-5.699107</td><td>-0.40781642</td><td>-8.222764</td></tr>\n",
       "\t<tr><td>5</td><td>1961.167</td><td>3.884994</td><td>-5.655065</td><td>-0.47503429</td><td>-8.183905</td></tr>\n",
       "\t<tr><td>5</td><td>1961.250</td><td>3.807995</td><td>-5.630096</td><td>-0.21698191</td><td>-8.160328</td></tr>\n",
       "\t<tr><td>5</td><td>1961.333</td><td>      NA</td><td>-5.633271</td><td>-0.25838174</td><td>-8.145466</td></tr>\n",
       "\t<tr><td>5</td><td>1961.417</td><td>3.908116</td><td>-5.588335</td><td>-0.24651309</td><td>-8.110406</td></tr>\n",
       "\t<tr><td>5</td><td>1961.500</td><td>3.812500</td><td>-5.563418</td><td>-0.22550681</td><td>-8.064147</td></tr>\n",
       "\t<tr><td>5</td><td>1961.583</td><td>3.788883</td><td>-5.530247</td><td>-0.38075942</td><td>-8.005655</td></tr>\n",
       "</tbody>\n",
       "</table>\n"
      ],
      "text/latex": [
       "A data.table: 19 × 6\n",
       "\\begin{tabular}{llllll}\n",
       " country & time & Y & X1 & X2 & X3\\\\\n",
       " <dbl> & <dbl> & <dbl> & <dbl> & <dbl> & <dbl>\\\\\n",
       "\\hline\n",
       "\t 5 & 1960.083 & 3.907704 & -6.264363 & -0.01959833 & -9.145706\\\\\n",
       "\t 5 & 1960.167 & 3.885623 & -6.220883 & -0.02386000 & -9.044253\\\\\n",
       "\t 5 & 1960.250 & 3.823666 & -6.173592 & -0.06892022 & -8.930133\\\\\n",
       "\t 5 & 1960.333 & 3.788997 & -6.137060 & -0.13792900 & -8.818632\\\\\n",
       "\t 5 & 1960.417 &       NA & -6.087237 & -0.19784646 & -8.710965\\\\\n",
       "\t 5 & 1960.500 & 3.760584 & -6.048528 & -0.23365325 & -8.629390\\\\\n",
       "\t 5 & 1960.583 &       NA & -6.000836 & -0.26427164 & -8.545771\\\\\n",
       "\t 5 & 1960.667 &       NA & -5.955660 & -0.29405795 & -8.487370\\\\\n",
       "\t 5 & 1960.750 & 3.778230 & -5.901380 & -0.32316179 & -8.425551\\\\\n",
       "\t 5 & 1960.833 & 3.773460 & -5.840774 & -0.31519087 & -8.369136\\\\\n",
       "\t 5 & 1960.917 &       NA & -5.784181 & -0.33384616 & -8.327089\\\\\n",
       "\t 5 & 1961.000 & 3.825962 & -5.743144 & -0.37945667 & -8.279522\\\\\n",
       "\t 5 & 1961.083 & 3.846677 & -5.699107 & -0.40781642 & -8.222764\\\\\n",
       "\t 5 & 1961.167 & 3.884994 & -5.655065 & -0.47503429 & -8.183905\\\\\n",
       "\t 5 & 1961.250 & 3.807995 & -5.630096 & -0.21698191 & -8.160328\\\\\n",
       "\t 5 & 1961.333 &       NA & -5.633271 & -0.25838174 & -8.145466\\\\\n",
       "\t 5 & 1961.417 & 3.908116 & -5.588335 & -0.24651309 & -8.110406\\\\\n",
       "\t 5 & 1961.500 & 3.812500 & -5.563418 & -0.22550681 & -8.064147\\\\\n",
       "\t 5 & 1961.583 & 3.788883 & -5.530247 & -0.38075942 & -8.005655\\\\\n",
       "\\end{tabular}\n"
      ],
      "text/markdown": [
       "\n",
       "A data.table: 19 × 6\n",
       "\n",
       "| country &lt;dbl&gt; | time &lt;dbl&gt; | Y &lt;dbl&gt; | X1 &lt;dbl&gt; | X2 &lt;dbl&gt; | X3 &lt;dbl&gt; |\n",
       "|---|---|---|---|---|---|\n",
       "| 5 | 1960.083 | 3.907704 | -6.264363 | -0.01959833 | -9.145706 |\n",
       "| 5 | 1960.167 | 3.885623 | -6.220883 | -0.02386000 | -9.044253 |\n",
       "| 5 | 1960.250 | 3.823666 | -6.173592 | -0.06892022 | -8.930133 |\n",
       "| 5 | 1960.333 | 3.788997 | -6.137060 | -0.13792900 | -8.818632 |\n",
       "| 5 | 1960.417 |       NA | -6.087237 | -0.19784646 | -8.710965 |\n",
       "| 5 | 1960.500 | 3.760584 | -6.048528 | -0.23365325 | -8.629390 |\n",
       "| 5 | 1960.583 |       NA | -6.000836 | -0.26427164 | -8.545771 |\n",
       "| 5 | 1960.667 |       NA | -5.955660 | -0.29405795 | -8.487370 |\n",
       "| 5 | 1960.750 | 3.778230 | -5.901380 | -0.32316179 | -8.425551 |\n",
       "| 5 | 1960.833 | 3.773460 | -5.840774 | -0.31519087 | -8.369136 |\n",
       "| 5 | 1960.917 |       NA | -5.784181 | -0.33384616 | -8.327089 |\n",
       "| 5 | 1961.000 | 3.825962 | -5.743144 | -0.37945667 | -8.279522 |\n",
       "| 5 | 1961.083 | 3.846677 | -5.699107 | -0.40781642 | -8.222764 |\n",
       "| 5 | 1961.167 | 3.884994 | -5.655065 | -0.47503429 | -8.183905 |\n",
       "| 5 | 1961.250 | 3.807995 | -5.630096 | -0.21698191 | -8.160328 |\n",
       "| 5 | 1961.333 |       NA | -5.633271 | -0.25838174 | -8.145466 |\n",
       "| 5 | 1961.417 | 3.908116 | -5.588335 | -0.24651309 | -8.110406 |\n",
       "| 5 | 1961.500 | 3.812500 | -5.563418 | -0.22550681 | -8.064147 |\n",
       "| 5 | 1961.583 | 3.788883 | -5.530247 | -0.38075942 | -8.005655 |\n",
       "\n"
      ],
      "text/plain": [
       "   country time     Y        X1        X2          X3       \n",
       "1  5       1960.083 3.907704 -6.264363 -0.01959833 -9.145706\n",
       "2  5       1960.167 3.885623 -6.220883 -0.02386000 -9.044253\n",
       "3  5       1960.250 3.823666 -6.173592 -0.06892022 -8.930133\n",
       "4  5       1960.333 3.788997 -6.137060 -0.13792900 -8.818632\n",
       "5  5       1960.417       NA -6.087237 -0.19784646 -8.710965\n",
       "6  5       1960.500 3.760584 -6.048528 -0.23365325 -8.629390\n",
       "7  5       1960.583       NA -6.000836 -0.26427164 -8.545771\n",
       "8  5       1960.667       NA -5.955660 -0.29405795 -8.487370\n",
       "9  5       1960.750 3.778230 -5.901380 -0.32316179 -8.425551\n",
       "10 5       1960.833 3.773460 -5.840774 -0.31519087 -8.369136\n",
       "11 5       1960.917       NA -5.784181 -0.33384616 -8.327089\n",
       "12 5       1961.000 3.825962 -5.743144 -0.37945667 -8.279522\n",
       "13 5       1961.083 3.846677 -5.699107 -0.40781642 -8.222764\n",
       "14 5       1961.167 3.884994 -5.655065 -0.47503429 -8.183905\n",
       "15 5       1961.250 3.807995 -5.630096 -0.21698191 -8.160328\n",
       "16 5       1961.333       NA -5.633271 -0.25838174 -8.145466\n",
       "17 5       1961.417 3.908116 -5.588335 -0.24651309 -8.110406\n",
       "18 5       1961.500 3.812500 -5.563418 -0.22550681 -8.064147\n",
       "19 5       1961.583 3.788883 -5.530247 -0.38075942 -8.005655"
      ]
     },
     "metadata": {},
     "output_type": "display_data"
    }
   ],
   "source": [
    "dt_visual"
   ]
  },
  {
   "cell_type": "markdown",
   "metadata": {},
   "source": [
    "By succesfully plotting the dependent variable Y from the 5th country in the original dataset, we can clearly see that there are missing values. A lot of them actually, which in my opinion makes it very hard, if not impossible to determine whether there is a trend or seasonality in the data. From what I can see, there is no clear trend since the minimum and maximum values do not really change over time, but maybe there is some seasonality given the similar peaks and dropoffs at various points in time."
   ]
  },
  {
   "cell_type": "markdown",
   "metadata": {},
   "source": [
    "**(B) Select 3 most appropriate methods from the imputeTS library to impute the missing values and visually compare the results. Then select the best method and overwrite the Y values of the 5th country in the DT_FINAL dataset with the imputed values.**"
   ]
  },
  {
   "cell_type": "code",
   "execution_count": 85,
   "metadata": {},
   "outputs": [
    {
     "data": {
      "image/png": "[encoded data removed]",
      "text/plain": [
       "plot without title"
      ]
     },
     "metadata": {
      "image/png": {
       "height": 480,
       "width": 1200
      }
     },
     "output_type": "display_data"
    }
   ],
   "source": [
    "set.seed(STUDENT_CODE)\n",
    "dt_ts <- dt_visual %>%\n",
    "    mutate(time_series <- ts(dt_visual$Y, start=dt_visual$time[1], frequency=12))\n",
    "dt_ts <- dt_ts %>% \n",
    "  mutate(`Imputed by mean` = imputeTS::na_mean(time_series, option = \"mean\"),\n",
    "         `Imputed by median` = imputeTS::na_mean(time_series, option = \"median\"),\n",
    "         `Imputed by random from interval` = imputeTS::na_random(time_series, \n",
    "                             lower_bound = min(time_series, na.rm = TRUE), \n",
    "                             upper_bound = max(time_series, na.rm = TRUE)),\n",
    "         `Imputed by moving-average` = imputeTS::na_ma(time_series, k = frequency(time_series)),\n",
    "         `Imputed by ARIMA` = imputeTS::na_kalman(time_series, model = \"auto.arima\"),\n",
    "         #`Imputed by seasonal decomposition + ARIMA` = imputeTS::na_seadec(time_series, algorithm = \"kalman\", model = \"auto.arima\"),\n",
    "         #`Imputed by seasonal split + ARIMA` = imputeTS::na_seasplit(time_series, algorithm = \"kalman\", model = \"auto.arima\"),\n",
    "         `Linear interpolation` = imputeTS::na_interpolation(time_series, option = \"linear\"),\n",
    "         `Spline interpolation` = imputeTS::na_interpolation(time_series, option = \"spline\"),\n",
    "         `Last Observation Carried Forward` = imputeTS::na_locf(time_series, option = \"locf\"),\n",
    "         `Next Observation Carried Backward` = imputeTS::na_locf(time_series, option = \"nocb\")\n",
    "         )\n",
    "\n",
    "plot(dt_ts$`Imputed by mean`, type = \"l\", xlab = \"Time\", ylab = \"Y Values\", col = \"red\", lwd = 2.5)\n",
    "lines(dt_ts$`Imputed by median`, col = \"darkgreen\", lwd = 2.5)\n",
    "lines(dt_ts$`Imputed by random from interval`, col = \"blue\", lwd = 2.5)\n",
    "lines(dt_ts$`Imputed by moving-average`, col = \"lightpink\", lwd = 2.5)\n",
    "lines(dt_ts$time_series, col = \"black\", lwd = 2.5)\n",
    "legend(\"topleft\",\n",
    "       legend = c(\"Original\", \"Imputed by mean\", \"Imputed by median\", \"Imputed by interval\", \"Imputed by MA\"), \n",
    "       col = c(\"black\", \"red\", \"darkgreen\", \"blue\", \"lightpink\"), lty = 1)"
   ]
  },
  {
   "cell_type": "code",
   "execution_count": 86,
   "metadata": {},
   "outputs": [
    {
     "data": {
      "image/png": "[encoded data removed]",
      "text/plain": [
       "plot without title"
      ]
     },
     "metadata": {
      "image/png": {
       "height": 480,
       "width": 1200
      }
     },
     "output_type": "display_data"
    }
   ],
   "source": [
    "plot(dt_ts$`Linear interpolation`, type = \"l\", xlab = \"Time\", ylab = \"Y Values\", col = \"red\", lwd = 2.5)\n",
    "lines(dt_ts$`Spline interpolation`, col = \"darkgreen\", lwd = 2.5)\n",
    "lines(dt_ts$`Last Observation Carried Forward`, col = \"blue\", lwd = 2.5)\n",
    "lines(dt_ts$`Next Observation Carried Backward`, col = \"lightpink\", lwd = 2.5)\n",
    "lines(dt_ts$time_series, col = \"black\", lwd = 2.5)\n",
    "legend(\"topleft\",\n",
    "       legend = c(\"Original\", \"Linear interpolation\", \"Spline interpolation\", \"LOCF\", \"NOCB\"), \n",
    "       col = c(\"black\", \"red\", \"darkgreen\", \"blue\", \"lightpink\"), lty = 1)"
   ]
  },
  {
   "cell_type": "code",
   "execution_count": 87,
   "metadata": {},
   "outputs": [
    {
     "data": {
      "image/png": "[encoded data removed]",
      "text/plain": [
       "plot without title"
      ]
     },
     "metadata": {
      "image/png": {
       "height": 480,
       "width": 1200
      }
     },
     "output_type": "display_data"
    }
   ],
   "source": [
    "plot(dt_ts$`Imputed by ARIMA`, type = \"l\", xlab = \"Time\", ylab = \"Y Values\", col = \"red\", lwd = 2.5)\n",
    "lines(dt_ts$time_series, col = \"black\", lwd = 2.5)"
   ]
  },
  {
   "cell_type": "markdown",
   "metadata": {},
   "source": [
    "As we can see, due to the large part of the data being NA, ARIMA does not do a good imputation."
   ]
  },
  {
   "cell_type": "markdown",
   "metadata": {},
   "source": [
    "seadec() and seasplit(), from the ones that we have gone over in lectures, cannot be done since there is too little data for the functions to perform a seasonal decomposition or seasonal split. From the others, we know that mean, median and random from interval would never work in real life, and LOCF/NOCB don't really make sense so we will take moving-average and both interpolations for further analysis."
   ]
  },
  {
   "cell_type": "code",
   "execution_count": 88,
   "metadata": {},
   "outputs": [
    {
     "data": {
      "image/png": "[encoded data removed]",
      "text/plain": [
       "plot without title"
      ]
     },
     "metadata": {
      "image/png": {
       "height": 480,
       "width": 1200
      }
     },
     "output_type": "display_data"
    }
   ],
   "source": [
    "plot(dt_ts$`Linear interpolation`, type = \"l\", xlab = \"Time\", ylab = \"Y Values\", col = \"red\", lwd = 2.5)\n",
    "lines(dt_ts$`Spline interpolation`, col = \"darkgreen\", lwd = 2.5)\n",
    "lines(dt_ts$`Imputed by moving-average`, col = \"blue\", lwd = 2.5)\n",
    "lines(dt_ts$time_series, col = \"black\", lwd = 2.5)\n",
    "legend(\"topleft\",\n",
    "       legend = c(\"Original\", \"Linear interpolation\", \"Spline interpolation\", \"Moving-Average\"), \n",
    "       col = c(\"black\", \"red\", \"darkgreen\", \"blue\"), lty = 1)"
   ]
  },
  {
   "cell_type": "markdown",
   "metadata": {},
   "source": [
    "Realistically speaking, moving-average tries to replicate some seasonality but it may be completely wrong, so to go on the safe side and minimize the errors regardless of the actual values, I would take Spline Interpolation, which has some variation in order to maybe capture some potential seasonality, but is less prone to very high errors in case the values are as expected."
   ]
  },
  {
   "cell_type": "code",
   "execution_count": 95,
   "metadata": {},
   "outputs": [],
   "source": [
    "imputed_values <- ifelse(is.na(dt_ts$Y), dt_ts$`Spline interpolation`, dt_ts$Y)\n",
    "DT_FINAL[country == 5, Y := imputed_values]"
   ]
  },
  {
   "cell_type": "code",
   "execution_count": 97,
   "metadata": {},
   "outputs": [
    {
     "data": {
      "text/html": [
       "<table class=\"dataframe\">\n",
       "<caption>A data.table: 19 × 6</caption>\n",
       "<thead>\n",
       "\t<tr><th scope=col>country</th><th scope=col>time</th><th scope=col>Y</th><th scope=col>X1</th><th scope=col>X2</th><th scope=col>X3</th></tr>\n",
       "\t<tr><th scope=col>&lt;dbl&gt;</th><th scope=col>&lt;dbl&gt;</th><th scope=col>&lt;dbl&gt;</th><th scope=col>&lt;dbl&gt;</th><th scope=col>&lt;dbl&gt;</th><th scope=col>&lt;dbl&gt;</th></tr>\n",
       "</thead>\n",
       "<tbody>\n",
       "\t<tr><td>5</td><td>1960.083</td><td>3.907704</td><td>-6.264363</td><td>-0.01959833</td><td>-9.145706</td></tr>\n",
       "\t<tr><td>5</td><td>1960.167</td><td>3.885623</td><td>-6.220883</td><td>-0.02386000</td><td>-9.044253</td></tr>\n",
       "\t<tr><td>5</td><td>1960.250</td><td>3.823666</td><td>-6.173592</td><td>-0.06892022</td><td>-8.930133</td></tr>\n",
       "\t<tr><td>5</td><td>1960.333</td><td>3.788997</td><td>-6.137060</td><td>-0.13792900</td><td>-8.818632</td></tr>\n",
       "\t<tr><td>5</td><td>1960.417</td><td>3.768973</td><td>-6.087237</td><td>-0.19784646</td><td>-8.710965</td></tr>\n",
       "\t<tr><td>5</td><td>1960.500</td><td>3.760584</td><td>-6.048528</td><td>-0.23365325</td><td>-8.629390</td></tr>\n",
       "\t<tr><td>5</td><td>1960.583</td><td>3.766093</td><td>-6.000836</td><td>-0.26427164</td><td>-8.545771</td></tr>\n",
       "\t<tr><td>5</td><td>1960.667</td><td>3.776086</td><td>-5.955660</td><td>-0.29405795</td><td>-8.487370</td></tr>\n",
       "\t<tr><td>5</td><td>1960.750</td><td>3.778230</td><td>-5.901380</td><td>-0.32316179</td><td>-8.425551</td></tr>\n",
       "\t<tr><td>5</td><td>1960.833</td><td>3.773460</td><td>-5.840774</td><td>-0.31519087</td><td>-8.369136</td></tr>\n",
       "\t<tr><td>5</td><td>1960.917</td><td>3.797469</td><td>-5.784181</td><td>-0.33384616</td><td>-8.327089</td></tr>\n",
       "\t<tr><td>5</td><td>1961.000</td><td>3.825962</td><td>-5.743144</td><td>-0.37945667</td><td>-8.279522</td></tr>\n",
       "\t<tr><td>5</td><td>1961.083</td><td>3.846677</td><td>-5.699107</td><td>-0.40781642</td><td>-8.222764</td></tr>\n",
       "\t<tr><td>5</td><td>1961.167</td><td>3.884994</td><td>-5.655065</td><td>-0.47503429</td><td>-8.183905</td></tr>\n",
       "\t<tr><td>5</td><td>1961.250</td><td>3.807995</td><td>-5.630096</td><td>-0.21698191</td><td>-8.160328</td></tr>\n",
       "\t<tr><td>5</td><td>1961.333</td><td>3.856829</td><td>-5.633271</td><td>-0.25838174</td><td>-8.145466</td></tr>\n",
       "\t<tr><td>5</td><td>1961.417</td><td>3.908116</td><td>-5.588335</td><td>-0.24651309</td><td>-8.110406</td></tr>\n",
       "\t<tr><td>5</td><td>1961.500</td><td>3.812500</td><td>-5.563418</td><td>-0.22550681</td><td>-8.064147</td></tr>\n",
       "\t<tr><td>5</td><td>1961.583</td><td>3.788883</td><td>-5.530247</td><td>-0.38075942</td><td>-8.005655</td></tr>\n",
       "</tbody>\n",
       "</table>\n"
      ],
      "text/latex": [
       "A data.table: 19 × 6\n",
       "\\begin{tabular}{llllll}\n",
       " country & time & Y & X1 & X2 & X3\\\\\n",
       " <dbl> & <dbl> & <dbl> & <dbl> & <dbl> & <dbl>\\\\\n",
       "\\hline\n",
       "\t 5 & 1960.083 & 3.907704 & -6.264363 & -0.01959833 & -9.145706\\\\\n",
       "\t 5 & 1960.167 & 3.885623 & -6.220883 & -0.02386000 & -9.044253\\\\\n",
       "\t 5 & 1960.250 & 3.823666 & -6.173592 & -0.06892022 & -8.930133\\\\\n",
       "\t 5 & 1960.333 & 3.788997 & -6.137060 & -0.13792900 & -8.818632\\\\\n",
       "\t 5 & 1960.417 & 3.768973 & -6.087237 & -0.19784646 & -8.710965\\\\\n",
       "\t 5 & 1960.500 & 3.760584 & -6.048528 & -0.23365325 & -8.629390\\\\\n",
       "\t 5 & 1960.583 & 3.766093 & -6.000836 & -0.26427164 & -8.545771\\\\\n",
       "\t 5 & 1960.667 & 3.776086 & -5.955660 & -0.29405795 & -8.487370\\\\\n",
       "\t 5 & 1960.750 & 3.778230 & -5.901380 & -0.32316179 & -8.425551\\\\\n",
       "\t 5 & 1960.833 & 3.773460 & -5.840774 & -0.31519087 & -8.369136\\\\\n",
       "\t 5 & 1960.917 & 3.797469 & -5.784181 & -0.33384616 & -8.327089\\\\\n",
       "\t 5 & 1961.000 & 3.825962 & -5.743144 & -0.37945667 & -8.279522\\\\\n",
       "\t 5 & 1961.083 & 3.846677 & -5.699107 & -0.40781642 & -8.222764\\\\\n",
       "\t 5 & 1961.167 & 3.884994 & -5.655065 & -0.47503429 & -8.183905\\\\\n",
       "\t 5 & 1961.250 & 3.807995 & -5.630096 & -0.21698191 & -8.160328\\\\\n",
       "\t 5 & 1961.333 & 3.856829 & -5.633271 & -0.25838174 & -8.145466\\\\\n",
       "\t 5 & 1961.417 & 3.908116 & -5.588335 & -0.24651309 & -8.110406\\\\\n",
       "\t 5 & 1961.500 & 3.812500 & -5.563418 & -0.22550681 & -8.064147\\\\\n",
       "\t 5 & 1961.583 & 3.788883 & -5.530247 & -0.38075942 & -8.005655\\\\\n",
       "\\end{tabular}\n"
      ],
      "text/markdown": [
       "\n",
       "A data.table: 19 × 6\n",
       "\n",
       "| country &lt;dbl&gt; | time &lt;dbl&gt; | Y &lt;dbl&gt; | X1 &lt;dbl&gt; | X2 &lt;dbl&gt; | X3 &lt;dbl&gt; |\n",
       "|---|---|---|---|---|---|\n",
       "| 5 | 1960.083 | 3.907704 | -6.264363 | -0.01959833 | -9.145706 |\n",
       "| 5 | 1960.167 | 3.885623 | -6.220883 | -0.02386000 | -9.044253 |\n",
       "| 5 | 1960.250 | 3.823666 | -6.173592 | -0.06892022 | -8.930133 |\n",
       "| 5 | 1960.333 | 3.788997 | -6.137060 | -0.13792900 | -8.818632 |\n",
       "| 5 | 1960.417 | 3.768973 | -6.087237 | -0.19784646 | -8.710965 |\n",
       "| 5 | 1960.500 | 3.760584 | -6.048528 | -0.23365325 | -8.629390 |\n",
       "| 5 | 1960.583 | 3.766093 | -6.000836 | -0.26427164 | -8.545771 |\n",
       "| 5 | 1960.667 | 3.776086 | -5.955660 | -0.29405795 | -8.487370 |\n",
       "| 5 | 1960.750 | 3.778230 | -5.901380 | -0.32316179 | -8.425551 |\n",
       "| 5 | 1960.833 | 3.773460 | -5.840774 | -0.31519087 | -8.369136 |\n",
       "| 5 | 1960.917 | 3.797469 | -5.784181 | -0.33384616 | -8.327089 |\n",
       "| 5 | 1961.000 | 3.825962 | -5.743144 | -0.37945667 | -8.279522 |\n",
       "| 5 | 1961.083 | 3.846677 | -5.699107 | -0.40781642 | -8.222764 |\n",
       "| 5 | 1961.167 | 3.884994 | -5.655065 | -0.47503429 | -8.183905 |\n",
       "| 5 | 1961.250 | 3.807995 | -5.630096 | -0.21698191 | -8.160328 |\n",
       "| 5 | 1961.333 | 3.856829 | -5.633271 | -0.25838174 | -8.145466 |\n",
       "| 5 | 1961.417 | 3.908116 | -5.588335 | -0.24651309 | -8.110406 |\n",
       "| 5 | 1961.500 | 3.812500 | -5.563418 | -0.22550681 | -8.064147 |\n",
       "| 5 | 1961.583 | 3.788883 | -5.530247 | -0.38075942 | -8.005655 |\n",
       "\n"
      ],
      "text/plain": [
       "   country time     Y        X1        X2          X3       \n",
       "1  5       1960.083 3.907704 -6.264363 -0.01959833 -9.145706\n",
       "2  5       1960.167 3.885623 -6.220883 -0.02386000 -9.044253\n",
       "3  5       1960.250 3.823666 -6.173592 -0.06892022 -8.930133\n",
       "4  5       1960.333 3.788997 -6.137060 -0.13792900 -8.818632\n",
       "5  5       1960.417 3.768973 -6.087237 -0.19784646 -8.710965\n",
       "6  5       1960.500 3.760584 -6.048528 -0.23365325 -8.629390\n",
       "7  5       1960.583 3.766093 -6.000836 -0.26427164 -8.545771\n",
       "8  5       1960.667 3.776086 -5.955660 -0.29405795 -8.487370\n",
       "9  5       1960.750 3.778230 -5.901380 -0.32316179 -8.425551\n",
       "10 5       1960.833 3.773460 -5.840774 -0.31519087 -8.369136\n",
       "11 5       1960.917 3.797469 -5.784181 -0.33384616 -8.327089\n",
       "12 5       1961.000 3.825962 -5.743144 -0.37945667 -8.279522\n",
       "13 5       1961.083 3.846677 -5.699107 -0.40781642 -8.222764\n",
       "14 5       1961.167 3.884994 -5.655065 -0.47503429 -8.183905\n",
       "15 5       1961.250 3.807995 -5.630096 -0.21698191 -8.160328\n",
       "16 5       1961.333 3.856829 -5.633271 -0.25838174 -8.145466\n",
       "17 5       1961.417 3.908116 -5.588335 -0.24651309 -8.110406\n",
       "18 5       1961.500 3.812500 -5.563418 -0.22550681 -8.064147\n",
       "19 5       1961.583 3.788883 -5.530247 -0.38075942 -8.005655"
      ]
     },
     "metadata": {},
     "output_type": "display_data"
    }
   ],
   "source": [
    "DT_FINAL[country == 5]"
   ]
  },
  {
   "cell_type": "markdown",
   "metadata": {},
   "source": [
    "As necessary, the imputed values are in the DT_FINAL dataset, only when there is a missing value for Y."
   ]
  },
  {
   "cell_type": "markdown",
   "metadata": {},
   "source": [
    "# **Task Set 2: Time series disaggregation**\n",
    "\n",
    "The dependent variable `Y` of the `8th` country in the `DT_ORIGINAL` variable is not available - all of its values are `NA`. Fortunately, you have received **annual** `Y` data (each year is a **sum** of individual months/quarters) for this individual, as well as a couple of *proxy* variables, which are in a higher frequency. \n",
    "\n",
    "The variables are available in `Y8_annual` (the annual data of the `8th` country) and `DT_proxy` (the higher frequency variables of the `8th` country)."
   ]
  },
  {
   "cell_type": "markdown",
   "metadata": {},
   "source": [
    "Carry out the tasks below:\n",
    "\n",
    "- **(A)** You suspect that not all of the variables in `DT_proxy` are appropriate for disaggregating $Y_{8,t}^{(annual)}$:\n",
    "    - plot the `Y` values of the **other** individuals from `DT_FINAL` and take note of any trend and/or seasonal patterns. \n",
    "    - plot the annual `Y` data in `Y8_annual` and the proxy variables from `DT_proxy` (separate plots).\n",
    "    - Based on the above plots, which variables from `DT_proxy` should **not** be used when disaggregating `Y8_annual`?\n",
    "- **(B)** Use the the `tempdisagg` library along with the **appropriate** `DT_proxy` variables to disaggregate `Y8_annual` into the same frequency as the data in `DT_FINAL` and plot the disaggregated series. Finally, overwrite the `Y` values of the `8th` country in the `DT_FINAL` variable with the disaggregated values. \n",
    "\n",
    "**Note**: \n",
    "\n",
    "- you might need to use `ts()` to transform the variables into time series objects. Furthermore, **do not modify** `DT_ORIGINAL` just in case you'll want to re-do the calculations!\n",
    "- if you only have 2 annual data points - you won't be able to include all proxy variables. In this case, using `method = \"denton-cholette\"` with a single variable will disaggregate the series, while `method = \"chow-lin-maxlog\"` might return the following error <code style=\"color:red\">not enough degrees of freedom</code> due to a lack of observations.\n",
    "\n",
    "**Hint**: assuming that `DT_FINAL` is ordered by time, you override the values for the `8th` country using `data.table` syntax like `DT_FINAL[country == 8, Y := disaggregated_values]`, where `disaggregated_values` is a vector of disaggregated values."
   ]
  },
  {
   "cell_type": "markdown",
   "metadata": {},
   "source": [
    "*Solutions*:"
   ]
  },
  {
   "cell_type": "markdown",
   "metadata": {},
   "source": [
    "**(A) You suspect that not all of the variables in DT_proxy are appropriate for disaggregating  𝑌(𝑎𝑛𝑛𝑢𝑎𝑙)8,𝑡:\n",
    "plot the Y values of the other individuals from DT_FINAL and take note of any trend and/or seasonal patterns.\n",
    "plot the annual Y data in Y8_annual and the proxy variables from DT_proxy (separate plots).\n",
    "Based on the above plots, which variables from DT_proxy should not be used when disaggregating Y8_annual?**"
   ]
  },
  {
   "cell_type": "code",
   "execution_count": 116,
   "metadata": {},
   "outputs": [
    {
     "data": {
      "image/png": "[encoded data removed]",
      "text/plain": [
       "Plot with title \"Plot for country  12\""
      ]
     },
     "metadata": {
      "image/png": {
       "height": 480,
       "width": 1200
      }
     },
     "output_type": "display_data"
    }
   ],
   "source": [
    "par(mfrow = c(3, 4))\n",
    "for(i in unique(DT_FINAL$country)) {\n",
    "    if(i==8) {\n",
    "        next\n",
    "    }\n",
    "    dt_temp <- DT_FINAL[country==i]\n",
    "    plot(dt_temp$time, dt_temp$Y, type = \"l\", xlab = \"Time\", ylab = \"Y Values\", main = paste(\"Plot for country \", i))\n",
    "}"
   ]
  },
  {
   "cell_type": "markdown",
   "metadata": {},
   "source": [
    "From the plots of all the countries except 8, I can see a trend pattern in 4, 6, 9 and maybe 2 and 11, and a separate trend in 1, 5 and 7. Seasonality patterns are much harder to notice here, but maybe 5 and 7, 1 with 10 and probably 4 with 9."
   ]
  },
  {
   "cell_type": "code",
   "execution_count": 114,
   "metadata": {},
   "outputs": [
    {
     "data": {
      "image/png": "[encoded data removed]",
      "text/plain": [
       "Plot with title \"Proxy variable 3\""
      ]
     },
     "metadata": {
      "image/png": {
       "height": 480,
       "width": 1200
      }
     },
     "output_type": "display_data"
    }
   ],
   "source": [
    "par(mfrow = c(2, 2))\n",
    "plot(Y8_annual$year, Y8_annual$Y, type = \"l\", xlab = \"Time\", ylab = \"Y Values\", main = \"Yearly values for disaggregation\")\n",
    "plot(DT_proxy$time, DT_proxy$Z1, type = \"l\", xlab = \"Time\", ylab = \"Y Values\", main = \"Proxy variable 1\")\n",
    "plot(DT_proxy$time, DT_proxy$Z2, type = \"l\", xlab = \"Time\", ylab = \"Y Values\", main = \"Proxy variable 2\")\n",
    "plot(DT_proxy$time, DT_proxy$Z3, type = \"l\", xlab = \"Time\", ylab = \"Y Values\", main = \"Proxy variable 3\")"
   ]
  },
  {
   "cell_type": "markdown",
   "metadata": {},
   "source": [
    "Given all the plots above, I think that proxy variable 1 is not suitable for disaggregation of the time series. Variable 2 has very similar trend as almost half of the plots (2, 4, 6, 9, 11) with similar seasonality like country 2, proxy variable 3 has a similar trend to countries 1, 5 and 7 whereas proxy variable 1 has much more seasonality than any country, and the trend does not really match any plot."
   ]
  },
  {
   "cell_type": "markdown",
   "metadata": {},
   "source": [
    "**(B) Use the the tempdisagg library along with the appropriate DT_proxy variables to disaggregate Y8_annual into the same frequency as the data in DT_FINAL and plot the disaggregated series. Finally, overwrite the Y values of the 8th country in the DT_FINAL variable with the disaggregated values.**"
   ]
  },
  {
   "cell_type": "code",
   "execution_count": 146,
   "metadata": {},
   "outputs": [
    {
     "data": {
      "text/html": [
       "<table class=\"dataframe\">\n",
       "<caption>A data.table: 2 × 3</caption>\n",
       "<thead>\n",
       "\t<tr><th scope=col>country</th><th scope=col>year</th><th scope=col>Y</th></tr>\n",
       "\t<tr><th scope=col>&lt;dbl&gt;</th><th scope=col>&lt;dbl&gt;</th><th scope=col>&lt;dbl&gt;</th></tr>\n",
       "</thead>\n",
       "<tbody>\n",
       "\t<tr><td>8</td><td>1960</td><td>45.94259</td></tr>\n",
       "\t<tr><td>8</td><td>1961</td><td>32.14311</td></tr>\n",
       "</tbody>\n",
       "</table>\n"
      ],
      "text/latex": [
       "A data.table: 2 × 3\n",
       "\\begin{tabular}{lll}\n",
       " country & year & Y\\\\\n",
       " <dbl> & <dbl> & <dbl>\\\\\n",
       "\\hline\n",
       "\t 8 & 1960 & 45.94259\\\\\n",
       "\t 8 & 1961 & 32.14311\\\\\n",
       "\\end{tabular}\n"
      ],
      "text/markdown": [
       "\n",
       "A data.table: 2 × 3\n",
       "\n",
       "| country &lt;dbl&gt; | year &lt;dbl&gt; | Y &lt;dbl&gt; |\n",
       "|---|---|---|\n",
       "| 8 | 1960 | 45.94259 |\n",
       "| 8 | 1961 | 32.14311 |\n",
       "\n"
      ],
      "text/plain": [
       "  country year Y       \n",
       "1 8       1960 45.94259\n",
       "2 8       1961 32.14311"
      ]
     },
     "metadata": {},
     "output_type": "display_data"
    }
   ],
   "source": [
    "Y8_annual"
   ]
  },
  {
   "cell_type": "code",
   "execution_count": 147,
   "metadata": {},
   "outputs": [
    {
     "data": {
      "text/html": [
       "<table class=\"dataframe\">\n",
       "<caption>A data.table: 19 × 4</caption>\n",
       "<thead>\n",
       "\t<tr><th scope=col>country</th><th scope=col>time</th><th scope=col>Z2</th><th scope=col>Z3</th></tr>\n",
       "\t<tr><th scope=col>&lt;dbl&gt;</th><th scope=col>&lt;dbl&gt;</th><th scope=col>&lt;dbl&gt;</th><th scope=col>&lt;dbl&gt;</th></tr>\n",
       "</thead>\n",
       "<tbody>\n",
       "\t<tr><td>8</td><td>1960.083</td><td>4.817026</td><td> 3.0101021</td></tr>\n",
       "\t<tr><td>8</td><td>1960.167</td><td>4.722450</td><td> 5.1147479</td></tr>\n",
       "\t<tr><td>8</td><td>1960.250</td><td>4.565114</td><td> 4.8037383</td></tr>\n",
       "\t<tr><td>8</td><td>1960.333</td><td>4.675242</td><td> 4.5540060</td></tr>\n",
       "\t<tr><td>8</td><td>1960.417</td><td>4.561630</td><td> 2.2458137</td></tr>\n",
       "\t<tr><td>8</td><td>1960.500</td><td>4.518009</td><td> 0.2198072</td></tr>\n",
       "\t<tr><td>8</td><td>1960.583</td><td>4.528442</td><td>-0.5842566</td></tr>\n",
       "\t<tr><td>8</td><td>1960.667</td><td>4.523998</td><td>-3.9578202</td></tr>\n",
       "\t<tr><td>8</td><td>1960.750</td><td>4.547316</td><td>-6.1432117</td></tr>\n",
       "\t<tr><td>8</td><td>1960.833</td><td>4.532153</td><td>-2.3215640</td></tr>\n",
       "\t<tr><td>8</td><td>1960.917</td><td>4.467879</td><td>-0.9237286</td></tr>\n",
       "\t<tr><td>8</td><td>1961.000</td><td>4.537489</td><td>-0.1617031</td></tr>\n",
       "\t<tr><td>8</td><td>1961.083</td><td>4.456014</td><td> 1.6028315</td></tr>\n",
       "\t<tr><td>8</td><td>1961.167</td><td>4.462102</td><td> 4.6830114</td></tr>\n",
       "\t<tr><td>8</td><td>1961.250</td><td>4.426536</td><td> 4.9755839</td></tr>\n",
       "\t<tr><td>8</td><td>1961.333</td><td>4.427207</td><td> 3.4110664</td></tr>\n",
       "\t<tr><td>8</td><td>1961.417</td><td>4.461043</td><td> 2.8880018</td></tr>\n",
       "\t<tr><td>8</td><td>1961.500</td><td>4.436998</td><td>-0.7181180</td></tr>\n",
       "\t<tr><td>8</td><td>1961.583</td><td>4.462310</td><td>-1.9793218</td></tr>\n",
       "</tbody>\n",
       "</table>\n"
      ],
      "text/latex": [
       "A data.table: 19 × 4\n",
       "\\begin{tabular}{llll}\n",
       " country & time & Z2 & Z3\\\\\n",
       " <dbl> & <dbl> & <dbl> & <dbl>\\\\\n",
       "\\hline\n",
       "\t 8 & 1960.083 & 4.817026 &  3.0101021\\\\\n",
       "\t 8 & 1960.167 & 4.722450 &  5.1147479\\\\\n",
       "\t 8 & 1960.250 & 4.565114 &  4.8037383\\\\\n",
       "\t 8 & 1960.333 & 4.675242 &  4.5540060\\\\\n",
       "\t 8 & 1960.417 & 4.561630 &  2.2458137\\\\\n",
       "\t 8 & 1960.500 & 4.518009 &  0.2198072\\\\\n",
       "\t 8 & 1960.583 & 4.528442 & -0.5842566\\\\\n",
       "\t 8 & 1960.667 & 4.523998 & -3.9578202\\\\\n",
       "\t 8 & 1960.750 & 4.547316 & -6.1432117\\\\\n",
       "\t 8 & 1960.833 & 4.532153 & -2.3215640\\\\\n",
       "\t 8 & 1960.917 & 4.467879 & -0.9237286\\\\\n",
       "\t 8 & 1961.000 & 4.537489 & -0.1617031\\\\\n",
       "\t 8 & 1961.083 & 4.456014 &  1.6028315\\\\\n",
       "\t 8 & 1961.167 & 4.462102 &  4.6830114\\\\\n",
       "\t 8 & 1961.250 & 4.426536 &  4.9755839\\\\\n",
       "\t 8 & 1961.333 & 4.427207 &  3.4110664\\\\\n",
       "\t 8 & 1961.417 & 4.461043 &  2.8880018\\\\\n",
       "\t 8 & 1961.500 & 4.436998 & -0.7181180\\\\\n",
       "\t 8 & 1961.583 & 4.462310 & -1.9793218\\\\\n",
       "\\end{tabular}\n"
      ],
      "text/markdown": [
       "\n",
       "A data.table: 19 × 4\n",
       "\n",
       "| country &lt;dbl&gt; | time &lt;dbl&gt; | Z2 &lt;dbl&gt; | Z3 &lt;dbl&gt; |\n",
       "|---|---|---|---|\n",
       "| 8 | 1960.083 | 4.817026 |  3.0101021 |\n",
       "| 8 | 1960.167 | 4.722450 |  5.1147479 |\n",
       "| 8 | 1960.250 | 4.565114 |  4.8037383 |\n",
       "| 8 | 1960.333 | 4.675242 |  4.5540060 |\n",
       "| 8 | 1960.417 | 4.561630 |  2.2458137 |\n",
       "| 8 | 1960.500 | 4.518009 |  0.2198072 |\n",
       "| 8 | 1960.583 | 4.528442 | -0.5842566 |\n",
       "| 8 | 1960.667 | 4.523998 | -3.9578202 |\n",
       "| 8 | 1960.750 | 4.547316 | -6.1432117 |\n",
       "| 8 | 1960.833 | 4.532153 | -2.3215640 |\n",
       "| 8 | 1960.917 | 4.467879 | -0.9237286 |\n",
       "| 8 | 1961.000 | 4.537489 | -0.1617031 |\n",
       "| 8 | 1961.083 | 4.456014 |  1.6028315 |\n",
       "| 8 | 1961.167 | 4.462102 |  4.6830114 |\n",
       "| 8 | 1961.250 | 4.426536 |  4.9755839 |\n",
       "| 8 | 1961.333 | 4.427207 |  3.4110664 |\n",
       "| 8 | 1961.417 | 4.461043 |  2.8880018 |\n",
       "| 8 | 1961.500 | 4.436998 | -0.7181180 |\n",
       "| 8 | 1961.583 | 4.462310 | -1.9793218 |\n",
       "\n"
      ],
      "text/plain": [
       "   country time     Z2       Z3        \n",
       "1  8       1960.083 4.817026  3.0101021\n",
       "2  8       1960.167 4.722450  5.1147479\n",
       "3  8       1960.250 4.565114  4.8037383\n",
       "4  8       1960.333 4.675242  4.5540060\n",
       "5  8       1960.417 4.561630  2.2458137\n",
       "6  8       1960.500 4.518009  0.2198072\n",
       "7  8       1960.583 4.528442 -0.5842566\n",
       "8  8       1960.667 4.523998 -3.9578202\n",
       "9  8       1960.750 4.547316 -6.1432117\n",
       "10 8       1960.833 4.532153 -2.3215640\n",
       "11 8       1960.917 4.467879 -0.9237286\n",
       "12 8       1961.000 4.537489 -0.1617031\n",
       "13 8       1961.083 4.456014  1.6028315\n",
       "14 8       1961.167 4.462102  4.6830114\n",
       "15 8       1961.250 4.426536  4.9755839\n",
       "16 8       1961.333 4.427207  3.4110664\n",
       "17 8       1961.417 4.461043  2.8880018\n",
       "18 8       1961.500 4.436998 -0.7181180\n",
       "19 8       1961.583 4.462310 -1.9793218"
      ]
     },
     "metadata": {},
     "output_type": "display_data"
    }
   ],
   "source": [
    "valid_proxy"
   ]
  },
  {
   "cell_type": "code",
   "execution_count": 221,
   "metadata": {},
   "outputs": [],
   "source": [
    "valid_proxy <- DT_proxy\n",
    "valid_proxy$Z1 <- NULL\n",
    "Y8_annual$year <- as.double(Y8_annual$year)\n",
    "time_series_Y8 <- ts(Y8_annual$Y, start=min(Y8_annual$year), end=max(Y8_annual$year), frequency=1)\n",
    "time_series_proxy <- ts(valid_proxy$Z2, start=min(valid_proxy$time), end=max(valid_proxy$time), frequency=12)"
   ]
  },
  {
   "cell_type": "code",
   "execution_count": 222,
   "metadata": {},
   "outputs": [
    {
     "data": {
      "text/html": [
       "2"
      ],
      "text/latex": [
       "2"
      ],
      "text/markdown": [
       "2"
      ],
      "text/plain": [
       "[1] 2"
      ]
     },
     "metadata": {},
     "output_type": "display_data"
    }
   ],
   "source": [
    "length(time_series_Y8)"
   ]
  },
  {
   "cell_type": "code",
   "execution_count": 223,
   "metadata": {},
   "outputs": [
    {
     "data": {
      "text/html": [
       "A Time Series:<br><style>\n",
       ".list-inline {list-style: none; margin:0; padding: 0}\n",
       ".list-inline>li {display: inline-block}\n",
       ".list-inline>li:not(:last-child)::after {content: \"\\00b7\"; padding: 0 .5ex}\n",
       "</style>\n",
       "<ol class=list-inline><li>1960</li><li>1961</li></ol>\n"
      ],
      "text/latex": [
       "A Time Series:\\\\\\begin{enumerate*}\n",
       "\\item 1960\n",
       "\\item 1961\n",
       "\\end{enumerate*}\n"
      ],
      "text/markdown": [
       "A Time Series:  \n",
       "1. 1960\n",
       "2. 1961\n",
       "\n",
       "\n"
      ],
      "text/plain": [
       "A Time Series:\n",
       "[1] 1960 1961"
      ]
     },
     "metadata": {},
     "output_type": "display_data"
    }
   ],
   "source": [
    "time(time_series_Y8)"
   ]
  },
  {
   "cell_type": "code",
   "execution_count": 227,
   "metadata": {},
   "outputs": [
    {
     "data": {
      "text/html": [
       "<style>\n",
       ".list-inline {list-style: none; margin:0; padding: 0}\n",
       ".list-inline>li {display: inline-block}\n",
       ".list-inline>li:not(:last-child)::after {content: \"\\00b7\"; padding: 0 .5ex}\n",
       "</style>\n",
       "<ol class=list-inline><li>1960</li><li>1961</li></ol>\n"
      ],
      "text/latex": [
       "\\begin{enumerate*}\n",
       "\\item 1960\n",
       "\\item 1961\n",
       "\\end{enumerate*}\n"
      ],
      "text/markdown": [
       "1. 1960\n",
       "2. 1961\n",
       "\n",
       "\n"
      ],
      "text/plain": [
       "[1] 1960 1961"
      ]
     },
     "metadata": {},
     "output_type": "display_data"
    }
   ],
   "source": [
    "Y8_annual"
   ]
  },
  {
   "cell_type": "code",
   "execution_count": 228,
   "metadata": {},
   "outputs": [
    {
     "data": {
      "text/html": [
       "19"
      ],
      "text/latex": [
       "19"
      ],
      "text/markdown": [
       "19"
      ],
      "text/plain": [
       "[1] 19"
      ]
     },
     "metadata": {},
     "output_type": "display_data"
    }
   ],
   "source": [
    "length(time_series_proxy)"
   ]
  },
  {
   "cell_type": "code",
   "execution_count": 229,
   "metadata": {},
   "outputs": [
    {
     "data": {
      "text/html": [
       "<table class=\"dataframe\">\n",
       "<caption>A Time Series: 2 × 12</caption>\n",
       "<thead>\n",
       "\t<tr><th></th><th scope=col>Jan</th><th scope=col>Feb</th><th scope=col>Mar</th><th scope=col>Apr</th><th scope=col>May</th><th scope=col>Jun</th><th scope=col>Jul</th><th scope=col>Aug</th><th scope=col>Sep</th><th scope=col>Oct</th><th scope=col>Nov</th><th scope=col>Dec</th></tr>\n",
       "</thead>\n",
       "<tbody>\n",
       "\t<tr><th scope=row>1960</th><td>        </td><td>1960.083</td><td>1960.167</td><td>1960.250</td><td>1960.333</td><td>1960.417</td><td>1960.500</td><td>1960.583</td><td>1960.667</td><td>1960.750</td><td>1960.833</td><td>1960.917</td></tr>\n",
       "\t<tr><th scope=row>1961</th><td>1961.000</td><td>1961.083</td><td>1961.167</td><td>1961.250</td><td>1961.333</td><td>1961.417</td><td>1961.500</td><td>1961.583</td><td>        </td><td>        </td><td>        </td><td>        </td></tr>\n",
       "</tbody>\n",
       "</table>\n"
      ],
      "text/latex": [
       "A Time Series: 2 × 12\n",
       "\\begin{tabular}{r|llllllllllll}\n",
       "  & Jan & Feb & Mar & Apr & May & Jun & Jul & Aug & Sep & Oct & Nov & Dec\\\\\n",
       "\\hline\n",
       "\t1960 &          & 1960.083 & 1960.167 & 1960.250 & 1960.333 & 1960.417 & 1960.500 & 1960.583 & 1960.667 & 1960.750 & 1960.833 & 1960.917\\\\\n",
       "\t1961 & 1961.000 & 1961.083 & 1961.167 & 1961.250 & 1961.333 & 1961.417 & 1961.500 & 1961.583 &          &          &          &         \\\\\n",
       "\\end{tabular}\n"
      ],
      "text/markdown": [
       "\n",
       "A Time Series: 2 × 12\n",
       "\n",
       "| <!--/--> | Jan | Feb | Mar | Apr | May | Jun | Jul | Aug | Sep | Oct | Nov | Dec |\n",
       "|---|---|---|---|---|---|---|---|---|---|---|---|---|\n",
       "| 1960 | <!----> | 1960.083 | 1960.167 | 1960.250 | 1960.333 | 1960.417 | 1960.500 | 1960.583 | 1960.667 | 1960.750 | 1960.833 | 1960.917 |\n",
       "| 1961 | 1961.000 | 1961.083 | 1961.167 | 1961.250 | 1961.333 | 1961.417 | 1961.500 | 1961.583 | <!----> | <!----> | <!----> | <!----> |\n",
       "\n"
      ],
      "text/plain": [
       "     Jan      Feb      Mar      Apr      May      Jun      Jul      Aug     \n",
       "1960          1960.083 1960.167 1960.250 1960.333 1960.417 1960.500 1960.583\n",
       "1961 1961.000 1961.083 1961.167 1961.250 1961.333 1961.417 1961.500 1961.583\n",
       "     Sep      Oct      Nov      Dec     \n",
       "1960 1960.667 1960.750 1960.833 1960.917\n",
       "1961                                    "
      ]
     },
     "metadata": {},
     "output_type": "display_data"
    }
   ],
   "source": [
    "time(time_series_proxy)"
   ]
  },
  {
   "cell_type": "code",
   "execution_count": 235,
   "metadata": {},
   "outputs": [
    {
     "data": {
      "text/plain": [
       "\n",
       "Call:\n",
       "td(formula = time_series_Y8 ~ 0, conversion = \"sum\", to = 12, \n",
       "    method = \"denton-cholette\")\n",
       "\n",
       "Residuals:\n",
       "Time Series:\n",
       "Start = 1960 \n",
       "End = 1961 \n",
       "Frequency = 1 \n",
       "[1] 33.94 20.14\n",
       "\n",
       "No Coefficients\n",
       "\n",
       "'denton-cholette' disaggregation with 'sum' conversion\n",
       "2 low-freq. obs. converted to 24 high-freq. obs.\n",
       "criterion: proportional \torder of differencing 'h': 1"
      ]
     },
     "metadata": {},
     "output_type": "display_data"
    }
   ],
   "source": [
    "model1 <- td(time_series_Y8 ~ 0, conversion = \"sum\", to = 12, method = \"denton-cholette\")\n",
    "summary(model1)"
   ]
  },
  {
   "cell_type": "code",
   "execution_count": 236,
   "metadata": {},
   "outputs": [
    {
     "name": "stderr",
     "output_type": "stream",
     "text": [
      "\u001b[1m\u001b[22mDon't know how to automatically pick scale for object of type \u001b[34m<ts>\u001b[39m. Defaulting to continuous.\n",
      "\u001b[1m\u001b[22mDon't know how to automatically pick scale for object of type \u001b[34m<ts>\u001b[39m. Defaulting to continuous.\n"
     ]
    },
    {
     "data": {
      "image/png": "[encoded data removed]",
      "text/plain": [
       "plot without title"
      ]
     },
     "metadata": {
      "image/png": {
       "height": 480,
       "width": 1200
      }
     },
     "output_type": "display_data"
    }
   ],
   "source": [
    "data.frame(x = time(predict(model1)), y = predict(model1)) %>%\n",
    "  ggplot(aes(x = x, y = y)) +\n",
    "  geom_line() + geom_point() +\n",
    "  labs(title = \"Disaggregated monthly data\")"
   ]
  },
  {
   "cell_type": "code",
   "execution_count": 237,
   "metadata": {},
   "outputs": [
    {
     "data": {
      "text/html": [
       "<table class=\"dataframe\">\n",
       "<caption>A data.table: 19 × 6</caption>\n",
       "<thead>\n",
       "\t<tr><th scope=col>country</th><th scope=col>time</th><th scope=col>Y</th><th scope=col>X1</th><th scope=col>X2</th><th scope=col>X3</th></tr>\n",
       "\t<tr><th scope=col>&lt;dbl&gt;</th><th scope=col>&lt;dbl&gt;</th><th scope=col>&lt;dbl&gt;</th><th scope=col>&lt;dbl&gt;</th><th scope=col>&lt;dbl&gt;</th><th scope=col>&lt;dbl&gt;</th></tr>\n",
       "</thead>\n",
       "<tbody>\n",
       "\t<tr><td>8</td><td>1960.083</td><td>4.101117</td><td>-6.090356</td><td>-0.1396896</td><td>-9.675052</td></tr>\n",
       "\t<tr><td>8</td><td>1960.167</td><td>4.077242</td><td>-6.037157</td><td>-0.1579051</td><td>-9.471597</td></tr>\n",
       "\t<tr><td>8</td><td>1960.250</td><td>4.041430</td><td>-6.012897</td><td>-0.1990881</td><td>-9.329567</td></tr>\n",
       "\t<tr><td>8</td><td>1960.333</td><td>3.993681</td><td>-5.966495</td><td>-0.2326332</td><td>-9.217731</td></tr>\n",
       "\t<tr><td>8</td><td>1960.417</td><td>3.933995</td><td>-5.927909</td><td>-0.2637473</td><td>-9.091535</td></tr>\n",
       "\t<tr><td>8</td><td>1960.500</td><td>3.862371</td><td>-5.881567</td><td>-0.3159312</td><td>-8.988003</td></tr>\n",
       "\t<tr><td>8</td><td>1960.583</td><td>3.778811</td><td>-5.851223</td><td>-0.2501173</td><td>-8.891959</td></tr>\n",
       "\t<tr><td>8</td><td>1960.667</td><td>3.683312</td><td>-5.805560</td><td>-0.2655576</td><td>-8.802676</td></tr>\n",
       "\t<tr><td>8</td><td>1960.750</td><td>3.575877</td><td>-5.773495</td><td>-0.3003677</td><td>-8.801129</td></tr>\n",
       "\t<tr><td>8</td><td>1960.833</td><td>3.456504</td><td>-5.735319</td><td>-0.3382305</td><td>-8.694593</td></tr>\n",
       "\t<tr><td>8</td><td>1960.917</td><td>3.325194</td><td>-5.741144</td><td>-0.3907256</td><td>-8.628616</td></tr>\n",
       "\t<tr><td>8</td><td>1961.000</td><td>3.181947</td><td>-5.699443</td><td>-0.3012722</td><td>-8.568486</td></tr>\n",
       "\t<tr><td>8</td><td>1961.083</td><td>3.050637</td><td>-5.658013</td><td>-0.2602393</td><td>-8.514394</td></tr>\n",
       "\t<tr><td>8</td><td>1961.167</td><td>2.931264</td><td>-5.623171</td><td>-0.3388077</td><td>-8.459655</td></tr>\n",
       "\t<tr><td>8</td><td>1961.250</td><td>2.823829</td><td>-5.578383</td><td>-0.1510092</td><td>-8.406444</td></tr>\n",
       "\t<tr><td>8</td><td>1961.333</td><td>2.728331</td><td>-5.551885</td><td>-0.3272676</td><td>-8.342890</td></tr>\n",
       "\t<tr><td>8</td><td>1961.417</td><td>2.644770</td><td>-5.497635</td><td>-0.3530875</td><td>-8.277292</td></tr>\n",
       "\t<tr><td>8</td><td>1961.500</td><td>2.573146</td><td>-5.458066</td><td>-0.3825576</td><td>-8.202841</td></tr>\n",
       "\t<tr><td>8</td><td>1961.583</td><td>2.513460</td><td>-5.423289</td><td>-0.3076593</td><td>-8.171788</td></tr>\n",
       "</tbody>\n",
       "</table>\n"
      ],
      "text/latex": [
       "A data.table: 19 × 6\n",
       "\\begin{tabular}{llllll}\n",
       " country & time & Y & X1 & X2 & X3\\\\\n",
       " <dbl> & <dbl> & <dbl> & <dbl> & <dbl> & <dbl>\\\\\n",
       "\\hline\n",
       "\t 8 & 1960.083 & 4.101117 & -6.090356 & -0.1396896 & -9.675052\\\\\n",
       "\t 8 & 1960.167 & 4.077242 & -6.037157 & -0.1579051 & -9.471597\\\\\n",
       "\t 8 & 1960.250 & 4.041430 & -6.012897 & -0.1990881 & -9.329567\\\\\n",
       "\t 8 & 1960.333 & 3.993681 & -5.966495 & -0.2326332 & -9.217731\\\\\n",
       "\t 8 & 1960.417 & 3.933995 & -5.927909 & -0.2637473 & -9.091535\\\\\n",
       "\t 8 & 1960.500 & 3.862371 & -5.881567 & -0.3159312 & -8.988003\\\\\n",
       "\t 8 & 1960.583 & 3.778811 & -5.851223 & -0.2501173 & -8.891959\\\\\n",
       "\t 8 & 1960.667 & 3.683312 & -5.805560 & -0.2655576 & -8.802676\\\\\n",
       "\t 8 & 1960.750 & 3.575877 & -5.773495 & -0.3003677 & -8.801129\\\\\n",
       "\t 8 & 1960.833 & 3.456504 & -5.735319 & -0.3382305 & -8.694593\\\\\n",
       "\t 8 & 1960.917 & 3.325194 & -5.741144 & -0.3907256 & -8.628616\\\\\n",
       "\t 8 & 1961.000 & 3.181947 & -5.699443 & -0.3012722 & -8.568486\\\\\n",
       "\t 8 & 1961.083 & 3.050637 & -5.658013 & -0.2602393 & -8.514394\\\\\n",
       "\t 8 & 1961.167 & 2.931264 & -5.623171 & -0.3388077 & -8.459655\\\\\n",
       "\t 8 & 1961.250 & 2.823829 & -5.578383 & -0.1510092 & -8.406444\\\\\n",
       "\t 8 & 1961.333 & 2.728331 & -5.551885 & -0.3272676 & -8.342890\\\\\n",
       "\t 8 & 1961.417 & 2.644770 & -5.497635 & -0.3530875 & -8.277292\\\\\n",
       "\t 8 & 1961.500 & 2.573146 & -5.458066 & -0.3825576 & -8.202841\\\\\n",
       "\t 8 & 1961.583 & 2.513460 & -5.423289 & -0.3076593 & -8.171788\\\\\n",
       "\\end{tabular}\n"
      ],
      "text/markdown": [
       "\n",
       "A data.table: 19 × 6\n",
       "\n",
       "| country &lt;dbl&gt; | time &lt;dbl&gt; | Y &lt;dbl&gt; | X1 &lt;dbl&gt; | X2 &lt;dbl&gt; | X3 &lt;dbl&gt; |\n",
       "|---|---|---|---|---|---|\n",
       "| 8 | 1960.083 | 4.101117 | -6.090356 | -0.1396896 | -9.675052 |\n",
       "| 8 | 1960.167 | 4.077242 | -6.037157 | -0.1579051 | -9.471597 |\n",
       "| 8 | 1960.250 | 4.041430 | -6.012897 | -0.1990881 | -9.329567 |\n",
       "| 8 | 1960.333 | 3.993681 | -5.966495 | -0.2326332 | -9.217731 |\n",
       "| 8 | 1960.417 | 3.933995 | -5.927909 | -0.2637473 | -9.091535 |\n",
       "| 8 | 1960.500 | 3.862371 | -5.881567 | -0.3159312 | -8.988003 |\n",
       "| 8 | 1960.583 | 3.778811 | -5.851223 | -0.2501173 | -8.891959 |\n",
       "| 8 | 1960.667 | 3.683312 | -5.805560 | -0.2655576 | -8.802676 |\n",
       "| 8 | 1960.750 | 3.575877 | -5.773495 | -0.3003677 | -8.801129 |\n",
       "| 8 | 1960.833 | 3.456504 | -5.735319 | -0.3382305 | -8.694593 |\n",
       "| 8 | 1960.917 | 3.325194 | -5.741144 | -0.3907256 | -8.628616 |\n",
       "| 8 | 1961.000 | 3.181947 | -5.699443 | -0.3012722 | -8.568486 |\n",
       "| 8 | 1961.083 | 3.050637 | -5.658013 | -0.2602393 | -8.514394 |\n",
       "| 8 | 1961.167 | 2.931264 | -5.623171 | -0.3388077 | -8.459655 |\n",
       "| 8 | 1961.250 | 2.823829 | -5.578383 | -0.1510092 | -8.406444 |\n",
       "| 8 | 1961.333 | 2.728331 | -5.551885 | -0.3272676 | -8.342890 |\n",
       "| 8 | 1961.417 | 2.644770 | -5.497635 | -0.3530875 | -8.277292 |\n",
       "| 8 | 1961.500 | 2.573146 | -5.458066 | -0.3825576 | -8.202841 |\n",
       "| 8 | 1961.583 | 2.513460 | -5.423289 | -0.3076593 | -8.171788 |\n",
       "\n"
      ],
      "text/plain": [
       "   country time     Y        X1        X2         X3       \n",
       "1  8       1960.083 4.101117 -6.090356 -0.1396896 -9.675052\n",
       "2  8       1960.167 4.077242 -6.037157 -0.1579051 -9.471597\n",
       "3  8       1960.250 4.041430 -6.012897 -0.1990881 -9.329567\n",
       "4  8       1960.333 3.993681 -5.966495 -0.2326332 -9.217731\n",
       "5  8       1960.417 3.933995 -5.927909 -0.2637473 -9.091535\n",
       "6  8       1960.500 3.862371 -5.881567 -0.3159312 -8.988003\n",
       "7  8       1960.583 3.778811 -5.851223 -0.2501173 -8.891959\n",
       "8  8       1960.667 3.683312 -5.805560 -0.2655576 -8.802676\n",
       "9  8       1960.750 3.575877 -5.773495 -0.3003677 -8.801129\n",
       "10 8       1960.833 3.456504 -5.735319 -0.3382305 -8.694593\n",
       "11 8       1960.917 3.325194 -5.741144 -0.3907256 -8.628616\n",
       "12 8       1961.000 3.181947 -5.699443 -0.3012722 -8.568486\n",
       "13 8       1961.083 3.050637 -5.658013 -0.2602393 -8.514394\n",
       "14 8       1961.167 2.931264 -5.623171 -0.3388077 -8.459655\n",
       "15 8       1961.250 2.823829 -5.578383 -0.1510092 -8.406444\n",
       "16 8       1961.333 2.728331 -5.551885 -0.3272676 -8.342890\n",
       "17 8       1961.417 2.644770 -5.497635 -0.3530875 -8.277292\n",
       "18 8       1961.500 2.573146 -5.458066 -0.3825576 -8.202841\n",
       "19 8       1961.583 2.513460 -5.423289 -0.3076593 -8.171788"
      ]
     },
     "metadata": {},
     "output_type": "display_data"
    }
   ],
   "source": [
    "disagg_values <- predict(model1)\n",
    "values_to_del <- c(1, 21, 22, 23, 24)\n",
    "disagg_values <- disagg_values[-values_to_del]\n",
    "DT_FINAL[country == 8, Y := disagg_values]\n",
    "DT_FINAL[country == 8]"
   ]
  },
  {
   "cell_type": "markdown",
   "metadata": {},
   "source": [
    "Due to having only two annual data points, I was not able to include the proxy variables in the disaggregation so I did that as if it were without additional information."
   ]
  },
  {
   "cell_type": "markdown",
   "metadata": {},
   "source": [
    "# **Task Set 3: Panel Data Model**\n",
    "\n",
    "Having filled in the missing values of one country in the first task and disaggregated annual to quaterly data of another country in the second task, use the finalized `DT_FINAL` to estimate a panel data model on the dependent variable `Y`."
   ]
  },
  {
   "cell_type": "markdown",
   "metadata": {},
   "source": [
    "Carry out the tasks below:\n",
    "\n",
    "- **(A)** Visually examine whether $Y_{i,t}$ is heterogeneous across countries and whether it is heterogeneous across years.\n",
    "- **(B)** Estimate a Fixed Effects (FE) model and test whether individual and/or time fixed effects are statistically significant.\n",
    "- **(C)** Estimate a Random Effects (RE) model and test whether the RE models coefficients are consistent, compared to the FE model. Select the best model.\n",
    "- **(D)** If there are any insignificant coefficients - remove them from the final model and plot the fitted values alongside the actual values for each country.\n",
    "- **(E)** Examine the plots - does the model fit each country with the same accuracy (i.e. is the model equally good for each country)? What about the `5th` and `8th` countries?"
   ]
  },
  {
   "cell_type": "markdown",
   "metadata": {},
   "source": [
    "*Solutions*:"
   ]
  },
  {
   "cell_type": "markdown",
   "metadata": {},
   "source": [
    "**(A) Visually examine whether 𝑌𝑖,𝑡 is heterogeneous across countries and whether it is heterogeneous across years.**"
   ]
  },
  {
   "cell_type": "code",
   "execution_count": 239,
   "metadata": {},
   "outputs": [
    {
     "name": "stderr",
     "output_type": "stream",
     "text": [
      "Warning message in arrows(x, li, x, pmax(y - gap, li), col = barcol, lwd = lwd, :\n",
      "\"zero-length arrow is of indeterminate angle and so skipped\"\n",
      "Warning message in arrows(x, li, x, pmax(y - gap, li), col = barcol, lwd = lwd, :\n",
      "\"zero-length arrow is of indeterminate angle and so skipped\"\n",
      "Warning message in arrows(x, li, x, pmax(y - gap, li), col = barcol, lwd = lwd, :\n",
      "\"zero-length arrow is of indeterminate angle and so skipped\"\n",
      "Warning message in arrows(x, li, x, pmax(y - gap, li), col = barcol, lwd = lwd, :\n",
      "\"zero-length arrow is of indeterminate angle and so skipped\"\n",
      "Warning message in arrows(x, li, x, pmax(y - gap, li), col = barcol, lwd = lwd, :\n",
      "\"zero-length arrow is of indeterminate angle and so skipped\"\n",
      "Warning message in arrows(x, li, x, pmax(y - gap, li), col = barcol, lwd = lwd, :\n",
      "\"zero-length arrow is of indeterminate angle and so skipped\"\n",
      "Warning message in arrows(x, li, x, pmax(y - gap, li), col = barcol, lwd = lwd, :\n",
      "\"zero-length arrow is of indeterminate angle and so skipped\"\n",
      "Warning message in arrows(x, li, x, pmax(y - gap, li), col = barcol, lwd = lwd, :\n",
      "\"zero-length arrow is of indeterminate angle and so skipped\"\n",
      "Warning message in arrows(x, li, x, pmax(y - gap, li), col = barcol, lwd = lwd, :\n",
      "\"zero-length arrow is of indeterminate angle and so skipped\"\n",
      "Warning message in arrows(x, li, x, pmax(y - gap, li), col = barcol, lwd = lwd, :\n",
      "\"zero-length arrow is of indeterminate angle and so skipped\"\n",
      "Warning message in arrows(x, li, x, pmax(y - gap, li), col = barcol, lwd = lwd, :\n",
      "\"zero-length arrow is of indeterminate angle and so skipped\"\n",
      "Warning message in arrows(x, ui, x, pmin(y + gap, ui), col = barcol, lwd = lwd, :\n",
      "\"zero-length arrow is of indeterminate angle and so skipped\"\n",
      "Warning message in arrows(x, ui, x, pmin(y + gap, ui), col = barcol, lwd = lwd, :\n",
      "\"zero-length arrow is of indeterminate angle and so skipped\"\n",
      "Warning message in arrows(x, ui, x, pmin(y + gap, ui), col = barcol, lwd = lwd, :\n",
      "\"zero-length arrow is of indeterminate angle and so skipped\"\n",
      "Warning message in arrows(x, ui, x, pmin(y + gap, ui), col = barcol, lwd = lwd, :\n",
      "\"zero-length arrow is of indeterminate angle and so skipped\"\n",
      "Warning message in arrows(x, ui, x, pmin(y + gap, ui), col = barcol, lwd = lwd, :\n",
      "\"zero-length arrow is of indeterminate angle and so skipped\"\n",
      "Warning message in arrows(x, ui, x, pmin(y + gap, ui), col = barcol, lwd = lwd, :\n",
      "\"zero-length arrow is of indeterminate angle and so skipped\"\n",
      "Warning message in arrows(x, ui, x, pmin(y + gap, ui), col = barcol, lwd = lwd, :\n",
      "\"zero-length arrow is of indeterminate angle and so skipped\"\n",
      "Warning message in arrows(x, ui, x, pmin(y + gap, ui), col = barcol, lwd = lwd, :\n",
      "\"zero-length arrow is of indeterminate angle and so skipped\"\n",
      "Warning message in arrows(x, ui, x, pmin(y + gap, ui), col = barcol, lwd = lwd, :\n",
      "\"zero-length arrow is of indeterminate angle and so skipped\"\n",
      "Warning message in arrows(x, ui, x, pmin(y + gap, ui), col = barcol, lwd = lwd, :\n",
      "\"zero-length arrow is of indeterminate angle and so skipped\"\n",
      "Warning message in arrows(x, ui, x, pmin(y + gap, ui), col = barcol, lwd = lwd, :\n",
      "\"zero-length arrow is of indeterminate angle and so skipped\"\n"
     ]
    },
    {
     "data": {
      "image/png": "[encoded data removed]",
      "text/plain": [
       "Plot with title \"Heterogeneity across years\""
      ]
     },
     "metadata": {
      "image/png": {
       "height": 480,
       "width": 1200
      }
     },
     "output_type": "display_data"
    }
   ],
   "source": [
    "par(mfrow = c(2, 1), mar = c(4, 2, 2, 0))\n",
    "gplots::plotmeans(Y ~ factor(country), \n",
    "                  main = \"Heterogeneity across countries\", data = DT_FINAL)\n",
    "gplots::plotmeans(Y ~ time, \n",
    "                  main = \"Heterogeneity across years\", data = DT_FINAL)"
   ]
  },
  {
   "cell_type": "markdown",
   "metadata": {},
   "source": [
    "Here we can see from the first plot, that the countries differ in gas consumption per car and their variance. The mean values of country 8 differ significantly, as shown by the blue bars in plot 1 which indicates that most probably the disaggregation does not give optimal results. From the second plot it can be seen that throughout the years, the average value is decreasing, maybe suggesting a shift towards more sustainable fuels or technology advances, which mean that cars in general spend less fuel. Overall, the log of fuel spent per car is homogeneic across countries, but heterogeneic across years."
   ]
  },
  {
   "cell_type": "markdown",
   "metadata": {},
   "source": [
    "**(B) Estimate a Fixed Effects (FE) model and test whether individual and/or time fixed effects are statistically significant.**"
   ]
  },
  {
   "cell_type": "code",
   "execution_count": 242,
   "metadata": {},
   "outputs": [
    {
     "data": {
      "text/plain": [
       "Oneway (individual) effect Within Model\n",
       "\n",
       "Call:\n",
       "plm(formula = Y ~ X1 + X2 + X3, data = DT_FINAL, effect = \"individual\", \n",
       "    model = \"within\", index = c(\"country\", \"time\"))\n",
       "\n",
       "Balanced Panel: n = 12, T = 19, N = 228\n",
       "\n",
       "Residuals:\n",
       "      Min.    1st Qu.     Median    3rd Qu.       Max. \n",
       "-0.6898184 -0.0458077  0.0059896  0.0554202  0.4812018 \n",
       "\n",
       "Coefficients:\n",
       "    Estimate Std. Error t-value  Pr(>|t|)    \n",
       "X1  0.342909   0.132565  2.5867  0.010355 *  \n",
       "X2 -0.248388   0.087787 -2.8294  0.005109 ** \n",
       "X3 -0.506228   0.058835 -8.6042 1.694e-15 ***\n",
       "---\n",
       "Signif. codes:  0 '***' 0.001 '**' 0.01 '*' 0.05 '.' 0.1 ' ' 1\n",
       "\n",
       "Total Sum of Squares:    11.46\n",
       "Residual Sum of Squares: 4.684\n",
       "R-Squared:      0.59128\n",
       "Adj. R-Squared: 0.56441\n",
       "F-statistic: 102.711 on 3 and 213 DF, p-value: < 2.22e-16"
      ]
     },
     "metadata": {},
     "output_type": "display_data"
    }
   ],
   "source": [
    "model_fe <- plm(formula = Y ~ X1 + X2 + X3, data = DT_FINAL, index = c(\"country\", \"time\"),\n",
    "                effect = \"individual\", model = \"within\")\n",
    "summary(model_fe)"
   ]
  },
  {
   "cell_type": "markdown",
   "metadata": {},
   "source": [
    "The null hypothesis we are testing is if the individual fixed effects are zero.\n",
    "The alternative hypothesis would be that the fixed effects are not zero."
   ]
  },
  {
   "cell_type": "code",
   "execution_count": 249,
   "metadata": {},
   "outputs": [
    {
     "data": {
      "text/plain": [
       "Pooling Model\n",
       "\n",
       "Call:\n",
       "plm(formula = Y ~ X1 + X2 + X3, data = DT_FINAL, model = \"pooling\", \n",
       "    index = c(\"country\", \"time\"))\n",
       "\n",
       "Balanced Panel: n = 12, T = 19, N = 228\n",
       "\n",
       "Residuals:\n",
       "    Min.  1st Qu.   Median  3rd Qu.     Max. \n",
       "-1.52675 -0.13533  0.02214  0.20776  0.68870 \n",
       "\n",
       "Coefficients:\n",
       "             Estimate Std. Error t-value  Pr(>|t|)    \n",
       "(Intercept)  2.316165   0.207184  11.179 < 2.2e-16 ***\n",
       "X1           0.953331   0.069098  13.797 < 2.2e-16 ***\n",
       "X2          -0.989161   0.059752 -16.555 < 2.2e-16 ***\n",
       "X3          -0.805655   0.036855 -21.860 < 2.2e-16 ***\n",
       "---\n",
       "Signif. codes:  0 '***' 0.001 '**' 0.01 '*' 0.05 '.' 0.1 ' ' 1\n",
       "\n",
       "Total Sum of Squares:    96.899\n",
       "Residual Sum of Squares: 26.817\n",
       "R-Squared:      0.72325\n",
       "Adj. R-Squared: 0.71954\n",
       "F-statistic: 195.13 on 3 and 224 DF, p-value: < 2.22e-16"
      ]
     },
     "metadata": {},
     "output_type": "display_data"
    }
   ],
   "source": [
    "model_pool = plm(formula = Y ~ X1 + X2 + X3, data = DT_FINAL, index = c(\"country\", \"time\"), model = \"pooling\")\n",
    "summary(model_pool)"
   ]
  },
  {
   "cell_type": "code",
   "execution_count": 250,
   "metadata": {},
   "outputs": [
    {
     "data": {
      "text/html": [
       "<style>\n",
       ".dl-inline {width: auto; margin:0; padding: 0}\n",
       ".dl-inline>dt, .dl-inline>dd {float: none; width: auto; display: inline-block}\n",
       ".dl-inline>dt::after {content: \":\\0020\"; padding-right: .5ex}\n",
       ".dl-inline>dt:not(:first-of-type) {padding-left: .5ex}\n",
       "</style><dl class=dl-inline><dt>1</dt><dd>1.55513241738308</dd><dt>2</dt><dd>1.4792305616078</dd><dt>3</dt><dd>2.42286008272691</dd><dt>4</dt><dd>1.72973481066976</dd><dt>5</dt><dd>1.48853754784618</dd><dt>6</dt><dd>1.67745766012711</dd><dt>7</dt><dd>1.77386761137251</dd><dt>8</dt><dd>0.849766371374113</dd><dt>9</dt><dd>1.1590182687753</dd><dt>10</dt><dd>1.83663063115336</dd><dt>11</dt><dd>1.87055463910863</dd><dt>12</dt><dd>2.44848615366765</dd></dl>\n"
      ],
      "text/latex": [
       "\\begin{description*}\n",
       "\\item[1] 1.55513241738308\n",
       "\\item[2] 1.4792305616078\n",
       "\\item[3] 2.42286008272691\n",
       "\\item[4] 1.72973481066976\n",
       "\\item[5] 1.48853754784618\n",
       "\\item[6] 1.67745766012711\n",
       "\\item[7] 1.77386761137251\n",
       "\\item[8] 0.849766371374113\n",
       "\\item[9] 1.1590182687753\n",
       "\\item[10] 1.83663063115336\n",
       "\\item[11] 1.87055463910863\n",
       "\\item[12] 2.44848615366765\n",
       "\\end{description*}\n"
      ],
      "text/markdown": [
       "1\n",
       ":   1.555132417383082\n",
       ":   1.47923056160783\n",
       ":   2.422860082726914\n",
       ":   1.729734810669765\n",
       ":   1.488537547846186\n",
       ":   1.677457660127117\n",
       ":   1.773867611372518\n",
       ":   0.8497663713741139\n",
       ":   1.159018268775310\n",
       ":   1.8366306311533611\n",
       ":   1.8705546391086312\n",
       ":   2.44848615366765\n",
       "\n"
      ],
      "text/plain": [
       "      1       2       3       4       5       6       7       8       9      10 \n",
       "1.55513 1.47923 2.42286 1.72973 1.48854 1.67746 1.77387 0.84977 1.15902 1.83663 \n",
       "     11      12 \n",
       "1.87055 2.44849 "
      ]
     },
     "metadata": {},
     "output_type": "display_data"
    }
   ],
   "source": [
    "fixef(model_fe)"
   ]
  },
  {
   "cell_type": "code",
   "execution_count": 251,
   "metadata": {},
   "outputs": [
    {
     "data": {
      "text/plain": [
       "\n",
       "\tF test for individual effects\n",
       "\n",
       "data:  Y ~ X1 + X2 + X3\n",
       "F = 91.498, df1 = 11, df2 = 213, p-value < 2.2e-16\n",
       "alternative hypothesis: significant effects\n"
      ]
     },
     "metadata": {},
     "output_type": "display_data"
    }
   ],
   "source": [
    "pFtest(model_fe, model_pool)"
   ]
  },
  {
   "cell_type": "markdown",
   "metadata": {},
   "source": [
    "Since the p-value is way smaller than the threshold (0.05), we throw out the null hypothesis and conclude the alternative: The fixed effects are not zero, and are statistically significant."
   ]
  },
  {
   "cell_type": "markdown",
   "metadata": {},
   "source": [
    "**(C) Estimate a Random Effects (RE) model and test whether the RE models coefficients are consistent, compared to the FE model. Select the best model.**"
   ]
  },
  {
   "cell_type": "code",
   "execution_count": 252,
   "metadata": {},
   "outputs": [
    {
     "data": {
      "text/plain": [
       "Oneway (individual) effect Random Effect Model \n",
       "   (Swamy-Arora's transformation)\n",
       "\n",
       "Call:\n",
       "plm(formula = Y ~ X1 + X2 + X3, data = DT_FINAL, effect = \"individual\", \n",
       "    model = \"random\", index = c(\"country\", \"time\"))\n",
       "\n",
       "Balanced Panel: n = 12, T = 19, N = 228\n",
       "\n",
       "Effects:\n",
       "                  var std.dev share\n",
       "idiosyncratic 0.02199 0.14829 0.148\n",
       "individual    0.12672 0.35597 0.852\n",
       "theta: 0.9049\n",
       "\n",
       "Residuals:\n",
       "     Min.   1st Qu.    Median   3rd Qu.      Max. \n",
       "-0.761673 -0.055336  0.014885  0.079634  0.405439 \n",
       "\n",
       "Coefficients:\n",
       "             Estimate Std. Error z-value  Pr(>|z|)    \n",
       "(Intercept)  1.499360   0.332354  4.5113 6.442e-06 ***\n",
       "X1           0.312498   0.106054  2.9466  0.003213 ** \n",
       "X2          -0.328923   0.077614 -4.2379 2.256e-05 ***\n",
       "X3          -0.501668   0.050835 -9.8686 < 2.2e-16 ***\n",
       "---\n",
       "Signif. codes:  0 '***' 0.001 '**' 0.01 '*' 0.05 '.' 0.1 ' ' 1\n",
       "\n",
       "Total Sum of Squares:    12.233\n",
       "Residual Sum of Squares: 5.0415\n",
       "R-Squared:      0.58789\n",
       "Adj. R-Squared: 0.58237\n",
       "Chisq: 319.543 on 3 DF, p-value: < 2.22e-16"
      ]
     },
     "metadata": {},
     "output_type": "display_data"
    }
   ],
   "source": [
    "model_re <- plm(formula = Y ~ X1 + X2 + X3, data = DT_FINAL, index = c(\"country\", \"time\"),\n",
    "                effect = \"individual\", model = \"random\")\n",
    "summary(model_re)"
   ]
  },
  {
   "cell_type": "code",
   "execution_count": 254,
   "metadata": {},
   "outputs": [
    {
     "data": {
      "text/plain": [
       "\n",
       "\tHausman Test\n",
       "\n",
       "data:  Y ~ X1 + X2 + X3\n",
       "chisq = 13.972, df = 3, p-value = 0.002944\n",
       "alternative hypothesis: one model is inconsistent\n"
      ]
     },
     "metadata": {},
     "output_type": "display_data"
    }
   ],
   "source": [
    "phtest(model_fe, model_re)"
   ]
  },
  {
   "cell_type": "markdown",
   "metadata": {},
   "source": [
    "With the help of the Hausman test, the null hypothesis given by the test that both models are consistent is thrown out because the p-value is smaller than the threshold (0.002944<0.05), and the alternative is concluded - one model is inconsistent. Knowing that the Fixed Effects model is consistent both when there is correlation between regressors and effects, and when there is no correlation, we can conclude that the Random Effects model is inconsistent, thus yielding it unusable in this scenario."
   ]
  },
  {
   "cell_type": "markdown",
   "metadata": {},
   "source": [
    "**(D) If there are any insignificant coefficients - remove them from the final model and plot the fitted values alongside the actual values for each country.**"
   ]
  },
  {
   "cell_type": "markdown",
   "metadata": {},
   "source": [
    "Because in the heterogeneity plot over time the dependent variable Y shows some effect of time on the fuel spent per car, I am going to model a two-way fixed effects model, and also because the fixed effects one is better than the random effects model."
   ]
  },
  {
   "cell_type": "code",
   "execution_count": 255,
   "metadata": {},
   "outputs": [
    {
     "data": {
      "text/plain": [
       "Twoways effects Within Model\n",
       "\n",
       "Call:\n",
       "plm(formula = Y ~ X1 + X2 + X3, data = DT_FINAL, effect = \"twoway\", \n",
       "    model = \"within\", index = c(\"country\", \"time\"))\n",
       "\n",
       "Balanced Panel: n = 12, T = 19, N = 228\n",
       "\n",
       "Residuals:\n",
       "      Min.    1st Qu.     Median    3rd Qu.       Max. \n",
       "-0.6732230 -0.0535456 -0.0017345  0.0644645  0.4877835 \n",
       "\n",
       "Coefficients:\n",
       "    Estimate Std. Error t-value  Pr(>|t|)    \n",
       "X1  0.406095   0.243237  1.6695   0.09661 .  \n",
       "X2 -0.226760   0.103148 -2.1984   0.02910 *  \n",
       "X3 -0.513860   0.066498 -7.7275 5.659e-13 ***\n",
       "---\n",
       "Signif. codes:  0 '***' 0.001 '**' 0.01 '*' 0.05 '.' 0.1 ' ' 1\n",
       "\n",
       "Total Sum of Squares:    7.2428\n",
       "Residual Sum of Squares: 4.6227\n",
       "R-Squared:      0.36175\n",
       "Adj. R-Squared: 0.25701\n",
       "F-statistic: 36.8411 on 3 and 195 DF, p-value: < 2.22e-16"
      ]
     },
     "metadata": {},
     "output_type": "display_data"
    }
   ],
   "source": [
    "model_fe_twoway <- plm(formula = Y ~ X1 + X2 + X3, data = DT_FINAL, index = c(\"country\", \"time\"),\n",
    "                effect = \"twoway\", model = \"within\")\n",
    "summary(model_fe_twoway)"
   ]
  },
  {
   "cell_type": "code",
   "execution_count": 256,
   "metadata": {},
   "outputs": [
    {
     "data": {
      "text/plain": [
       "\n",
       "\tF test for twoways effects\n",
       "\n",
       "data:  Y ~ X1 + X2 + X3\n",
       "F = 32.283, df1 = 29, df2 = 195, p-value < 2.2e-16\n",
       "alternative hypothesis: significant effects\n"
      ]
     },
     "metadata": {},
     "output_type": "display_data"
    }
   ],
   "source": [
    "pFtest(model_fe_twoway, model_pool)"
   ]
  },
  {
   "cell_type": "markdown",
   "metadata": {},
   "source": [
    "Here the null hypothesis that the fixed time effects are not significant is thrown out, and the alternative is accepted that there may be some significant time effects. Because the pooled and random effects models show weak results, I just need to compare the twoway with the individual fixed effects model, because one of them fits the dataset the best."
   ]
  },
  {
   "cell_type": "code",
   "execution_count": 257,
   "metadata": {},
   "outputs": [
    {
     "data": {
      "text/plain": [
       "\n",
       "\tF test for twoways effects\n",
       "\n",
       "data:  Y ~ X1 + X2 + X3\n",
       "F = 0.14358, df1 = 18, df2 = 195, p-value = 1\n",
       "alternative hypothesis: significant effects\n"
      ]
     },
     "metadata": {},
     "output_type": "display_data"
    }
   ],
   "source": [
    "pFtest(model_fe_twoway, model_fe)"
   ]
  },
  {
   "cell_type": "markdown",
   "metadata": {},
   "source": [
    "Since the p-value here is significantly bigger than 0.05, we can definitely accept the null hypothesis here that after all, there are no significant time effects, which means the two-way model does not provide a better fit than the individual. So the best model would be the standard Fixed Effects model."
   ]
  },
  {
   "cell_type": "code",
   "execution_count": 258,
   "metadata": {},
   "outputs": [
    {
     "data": {
      "text/plain": [
       "Oneway (individual) effect Within Model\n",
       "\n",
       "Call:\n",
       "plm(formula = Y ~ X1 + X2 + X3, data = DT_FINAL, effect = \"individual\", \n",
       "    model = \"within\", index = c(\"country\", \"time\"))\n",
       "\n",
       "Balanced Panel: n = 12, T = 19, N = 228\n",
       "\n",
       "Residuals:\n",
       "      Min.    1st Qu.     Median    3rd Qu.       Max. \n",
       "-0.6898184 -0.0458077  0.0059896  0.0554202  0.4812018 \n",
       "\n",
       "Coefficients:\n",
       "    Estimate Std. Error t-value  Pr(>|t|)    \n",
       "X1  0.342909   0.132565  2.5867  0.010355 *  \n",
       "X2 -0.248388   0.087787 -2.8294  0.005109 ** \n",
       "X3 -0.506228   0.058835 -8.6042 1.694e-15 ***\n",
       "---\n",
       "Signif. codes:  0 '***' 0.001 '**' 0.01 '*' 0.05 '.' 0.1 ' ' 1\n",
       "\n",
       "Total Sum of Squares:    11.46\n",
       "Residual Sum of Squares: 4.684\n",
       "R-Squared:      0.59128\n",
       "Adj. R-Squared: 0.56441\n",
       "F-statistic: 102.711 on 3 and 213 DF, p-value: < 2.22e-16"
      ]
     },
     "metadata": {},
     "output_type": "display_data"
    }
   ],
   "source": [
    "summary(model_fe)"
   ]
  },
  {
   "cell_type": "markdown",
   "metadata": {},
   "source": [
    "Once again, we see the p-values for each coefficient and because all of them are below 0.05, we conclude that all of: real per-capita income, real motor gasoline price and the stock of cars per capita provide valuable information for predicting future values of the fuel spent per car for each country analysed."
   ]
  },
  {
   "cell_type": "code",
   "execution_count": 261,
   "metadata": {},
   "outputs": [],
   "source": [
    "model <- model_fe\n",
    "fitted_values <- fitted(model)"
   ]
  },
  {
   "cell_type": "code",
   "execution_count": 264,
   "metadata": {},
   "outputs": [],
   "source": [
    "#par(mfrow = c(3, 4))\n",
    "#for(i in unique(DT_FINAL$country)) {\n",
    "    #start_index <- (i - 1) * 19 + 1\n",
    "    #dt_temp <- DT_FINAL[country==i]\n",
    "    #plot(dt_temp$time, dt_temp$Y, type = \"l\", xlab = \"Time\", ylab = \"Y Values\", \n",
    "         #main = paste(\"Plot for Fixed Effects model for country \", i))\n",
    "    #lines(dt_temp$time, fitted_values[start_index:(start_index + 18)], col = \"red\")\n",
    "#}"
   ]
  },
  {
   "cell_type": "code",
   "execution_count": 266,
   "metadata": {},
   "outputs": [
    {
     "name": "stdout",
     "output_type": "stream",
     "text": [
      "Rows: 228\n",
      "Columns: 7\n",
      "$ country  \u001b[3m\u001b[90m<dbl>\u001b[39m\u001b[23m 1, 1, 1, 1, 1, 1, 1, 1, 1, 1, 1, 1, 1, 1, 1, 1, 1, 1, 1, 2, 2…\n",
      "$ time     \u001b[3m\u001b[90m<dbl>\u001b[39m\u001b[23m 1960.083, 1960.167, 1960.250, 1960.333, 1960.417, 1960.500, 1…\n",
      "$ Y        \u001b[3m\u001b[90m<dbl>\u001b[39m\u001b[23m 4.173244, 4.100989, 4.073177, 4.059509, 4.037689, 4.033983, 4…\n",
      "$ X1       \u001b[3m\u001b[90m<dbl>\u001b[39m\u001b[23m -6.474277, -6.426006, -6.407308, -6.370679, -6.322247, -6.294…\n",
      "$ X2       \u001b[3m\u001b[90m<dbl>\u001b[39m\u001b[23m -0.3345476, -0.3513276, -0.3795177, -0.4142514, -0.4453354, -…\n",
      "$ X3       \u001b[3m\u001b[90m<dbl>\u001b[39m\u001b[23m -9.766840, -9.608622, -9.457257, -9.343155, -9.237739, -9.123…\n",
      "$ model_fe \u001b[3m\u001b[90m<dbl>\u001b[39m\u001b[23m 4.362389, 4.303016, 4.239804, 4.203231, 4.174195, 4.138873, 4…\n"
     ]
    }
   ],
   "source": [
    "df <- DT_FINAL\n",
    "df$model_fe <- as.numeric(model_fe$model[[1]] - model_fe$residuals)\n",
    "glimpse(df)"
   ]
  },
  {
   "cell_type": "code",
   "execution_count": 267,
   "metadata": {},
   "outputs": [
    {
     "data": {
      "image/png": "[encoded data removed]",
      "text/plain": [
       "Plot with title \"Plot for Fixed Effects model fitted Y values for country  12\""
      ]
     },
     "metadata": {
      "image/png": {
       "height": 480,
       "width": 1200
      }
     },
     "output_type": "display_data"
    }
   ],
   "source": [
    "par(mfrow = c(3, 4))\n",
    "for(i in unique(df$country)) {\n",
    "    dt_temp <- df[country==i]\n",
    "    plot(dt_temp$time, dt_temp$Y, type = \"l\", xlab = \"Time\", ylab = \"Y Values\", \n",
    "         main = paste(\"Plot for Fixed Effects model fitted Y values for country \", i))\n",
    "    lines(dt_temp$time, dt_temp$model_fe, col = \"red\")\n",
    "}"
   ]
  },
  {
   "cell_type": "markdown",
   "metadata": {},
   "source": [
    "**(E) Examine the plots - does the model fit each country with the same accuracy (i.e. is the model equally good for each country)? What about the 5th and 8th countries?**"
   ]
  },
  {
   "cell_type": "markdown",
   "metadata": {},
   "source": [
    "After a short look at the plots, I can conclude that the model is a good fit for country 9. The model has correctly estimated the trend for countries 2, 3, 4, 6, 9 and 11, the seasonality is somewhat correctly estimated for countries 5, 7, 8, 9 and 11. The model is not equally good for each country, for example it missed both the trend and seasonality for country 12. For country 5 specifically, the seasonality is estimated well but a bit ahead in time, and it is not a very good fit. For country 8, the actual values may be very wrong due to the incomplete disaggregation, but the model still did not manage to capture the trend even though this is a very simple slope. Given the tests I ran, I am surprised that this is the best model out of those available in the lectures, but the dataset is pretty small for individual countries with 19 samples each, so maybe with a more robust dataset the model would predict much better, and also the predicted values with imputation for country 5 would be much more accurate to the real values."
   ]
  }
 ],
 "metadata": {
  "kernelspec": {
   "display_name": "R",
   "language": "R",
   "name": "ir"
  },
  "language_info": {
   "codemirror_mode": "r",
   "file_extension": ".r",
   "mimetype": "text/x-r-source",
   "name": "R",
   "pygments_lexer": "r",
   "version": "4.2.2"
  }
 },
 "nbformat": 4,
 "nbformat_minor": 4
}
